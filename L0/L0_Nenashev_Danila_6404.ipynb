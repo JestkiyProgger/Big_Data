{
  "nbformat": 4,
  "nbformat_minor": 0,
  "metadata": {
    "colab": {
      "provenance": []
    },
    "kernelspec": {
      "name": "python3",
      "display_name": "Python 3"
    }
  },
  "cells": [
    {
      "cell_type": "markdown",
      "metadata": {
        "id": "82OvPKEiEqjc"
      },
      "source": [
        "# Введение в MapReduce модель на Python\n"
      ]
    },
    {
      "cell_type": "code",
      "metadata": {
        "id": "JQ2cvXLjICmI"
      },
      "source": [
        "from typing import NamedTuple # requires python 3.6+\n",
        "from typing import Iterator"
      ],
      "execution_count": 1,
      "outputs": []
    },
    {
      "cell_type": "code",
      "metadata": {
        "id": "yjPHumVwEyEg"
      },
      "source": [
        "def MAP(_, row:NamedTuple):\n",
        "  if (row.gender == 'female'):\n",
        "    yield (row.age, row)\n",
        "\n",
        "def REDUCE(age:str, rows:Iterator[NamedTuple]):\n",
        "  sum = 0\n",
        "  count = 0\n",
        "  for row in rows:\n",
        "    sum += row.social_contacts\n",
        "    count += 1\n",
        "  if (count > 0):\n",
        "    yield (age, sum/count)\n",
        "  else:\n",
        "    yield (age, 0)"
      ],
      "execution_count": 2,
      "outputs": []
    },
    {
      "cell_type": "markdown",
      "metadata": {
        "id": "vBKMgpG_ilaZ"
      },
      "source": [
        "Модель элемента данных"
      ]
    },
    {
      "cell_type": "code",
      "metadata": {
        "id": "Rv-XIjhTJPx3"
      },
      "source": [
        "class User(NamedTuple):\n",
        "  id: int\n",
        "  age: str\n",
        "  social_contacts: int\n",
        "  gender: str"
      ],
      "execution_count": 3,
      "outputs": []
    },
    {
      "cell_type": "code",
      "metadata": {
        "id": "5KV0Ze2vQgu5"
      },
      "source": [
        "input_collection = [\n",
        "    User(id=0, age=55, gender='male', social_contacts=20),\n",
        "    User(id=1, age=25, gender='female', social_contacts=240),\n",
        "    User(id=2, age=25, gender='female', social_contacts=500),\n",
        "    User(id=3, age=33, gender='female', social_contacts=800)\n",
        "]"
      ],
      "execution_count": 4,
      "outputs": []
    },
    {
      "cell_type": "markdown",
      "metadata": {
        "id": "YFeqzyZxZIFZ"
      },
      "source": [
        "Функция RECORDREADER моделирует чтение элементов с диска или по сети."
      ]
    },
    {
      "cell_type": "code",
      "metadata": {
        "id": "S5HR4E_GQoMJ"
      },
      "source": [
        "def RECORDREADER():\n",
        "  return [(u.id, u) for u in input_collection]"
      ],
      "execution_count": 5,
      "outputs": []
    },
    {
      "cell_type": "code",
      "metadata": {
        "id": "NeEoWla-ROUy",
        "colab": {
          "base_uri": "https://localhost:8080/"
        },
        "outputId": "6640394a-26d1-41a9-dbdf-235e83f47def"
      },
      "source": [
        "list(RECORDREADER())"
      ],
      "execution_count": 6,
      "outputs": [
        {
          "output_type": "execute_result",
          "data": {
            "text/plain": [
              "[(0, User(id=0, age=55, social_contacts=20, gender='male')),\n",
              " (1, User(id=1, age=25, social_contacts=240, gender='female')),\n",
              " (2, User(id=2, age=25, social_contacts=500, gender='female')),\n",
              " (3, User(id=3, age=33, social_contacts=800, gender='female'))]"
            ]
          },
          "metadata": {},
          "execution_count": 6
        }
      ]
    },
    {
      "cell_type": "code",
      "metadata": {
        "id": "YB8orgPSZs8M"
      },
      "source": [
        "def flatten(nested_iterable):\n",
        "  for iterable in nested_iterable:\n",
        "    for element in iterable:\n",
        "      yield element"
      ],
      "execution_count": 7,
      "outputs": []
    },
    {
      "cell_type": "code",
      "metadata": {
        "id": "74oyvDLaRmd5",
        "colab": {
          "base_uri": "https://localhost:8080/"
        },
        "outputId": "6519d552-8742-4acf-96fa-da1faf8f5568"
      },
      "source": [
        "map_output = flatten(map(lambda x: MAP(*x), RECORDREADER()))\n",
        "map_output = list(map_output) # materialize\n",
        "map_output"
      ],
      "execution_count": 8,
      "outputs": [
        {
          "output_type": "execute_result",
          "data": {
            "text/plain": [
              "[(25, User(id=1, age=25, social_contacts=240, gender='female')),\n",
              " (25, User(id=2, age=25, social_contacts=500, gender='female')),\n",
              " (33, User(id=3, age=33, social_contacts=800, gender='female'))]"
            ]
          },
          "metadata": {},
          "execution_count": 8
        }
      ]
    },
    {
      "cell_type": "code",
      "metadata": {
        "id": "8ncYDJ3-VzDn"
      },
      "source": [
        "def groupbykey(iterable):\n",
        "  t = {}\n",
        "  for (k2, v2) in iterable:\n",
        "    t[k2] = t.get(k2, []) + [v2]\n",
        "  return t.items()"
      ],
      "execution_count": 9,
      "outputs": []
    },
    {
      "cell_type": "code",
      "metadata": {
        "id": "cKzY_6COWOA2",
        "colab": {
          "base_uri": "https://localhost:8080/"
        },
        "outputId": "160b1426-4d9d-421f-c886-9a31e5150ca9"
      },
      "source": [
        "shuffle_output = groupbykey(map_output)\n",
        "shuffle_output = list(shuffle_output)\n",
        "shuffle_output"
      ],
      "execution_count": 10,
      "outputs": [
        {
          "output_type": "execute_result",
          "data": {
            "text/plain": [
              "[(25,\n",
              "  [User(id=1, age=25, social_contacts=240, gender='female'),\n",
              "   User(id=2, age=25, social_contacts=500, gender='female')]),\n",
              " (33, [User(id=3, age=33, social_contacts=800, gender='female')])]"
            ]
          },
          "metadata": {},
          "execution_count": 10
        }
      ]
    },
    {
      "cell_type": "code",
      "metadata": {
        "id": "NlA7lkDDYL0t",
        "colab": {
          "base_uri": "https://localhost:8080/"
        },
        "outputId": "d11b6a9e-5da4-4627-8c9f-1d0406b84522"
      },
      "source": [
        "reduce_output = flatten(map(lambda x: REDUCE(*x), shuffle_output))\n",
        "reduce_output = list(reduce_output)\n",
        "reduce_output"
      ],
      "execution_count": 11,
      "outputs": [
        {
          "output_type": "execute_result",
          "data": {
            "text/plain": [
              "[(25, 370.0), (33, 800.0)]"
            ]
          },
          "metadata": {},
          "execution_count": 11
        }
      ]
    },
    {
      "cell_type": "markdown",
      "metadata": {
        "id": "xf6qhHEtd6bI"
      },
      "source": [
        "Все действия одним конвейером!"
      ]
    },
    {
      "cell_type": "code",
      "metadata": {
        "id": "dZaQGYxCdpw5",
        "colab": {
          "base_uri": "https://localhost:8080/"
        },
        "outputId": "2e372b63-a5ea-4b61-8efa-a7a93fa7ef5a"
      },
      "source": [
        "list(flatten(map(lambda x: REDUCE(*x), groupbykey(flatten(map(lambda x: MAP(*x), RECORDREADER()))))))"
      ],
      "execution_count": 12,
      "outputs": [
        {
          "output_type": "execute_result",
          "data": {
            "text/plain": [
              "[(25, 370.0), (33, 800.0)]"
            ]
          },
          "metadata": {},
          "execution_count": 12
        }
      ]
    },
    {
      "cell_type": "markdown",
      "metadata": {
        "id": "Vq3EWRIpwSiJ"
      },
      "source": [
        "# **MapReduce**\n",
        "Выделим общую для всех пользователей часть системы в отдельную функцию высшего порядка. Это наиболее простая модель MapReduce, без учёта распределённого хранения данных.\n",
        "\n",
        "Пользователь для решения своей задачи реализует RECORDREADER, MAP, REDUCE."
      ]
    },
    {
      "cell_type": "code",
      "metadata": {
        "id": "V1PZeQMwwVjc"
      },
      "source": [
        "def flatten(nested_iterable):\n",
        "  for iterable in nested_iterable:\n",
        "    for element in iterable:\n",
        "      yield element\n",
        "\n",
        "def groupbykey(iterable):\n",
        "  t = {}\n",
        "  for (k2, v2) in iterable:\n",
        "    t[k2] = t.get(k2, []) + [v2]\n",
        "  return t.items()\n",
        "\n",
        "def MapReduce(RECORDREADER, MAP, REDUCE):\n",
        "  return flatten(map(lambda x: REDUCE(*x), groupbykey(flatten(map(lambda x: MAP(*x), RECORDREADER())))))"
      ],
      "execution_count": 13,
      "outputs": []
    },
    {
      "cell_type": "markdown",
      "metadata": {
        "id": "iFIVrimep678"
      },
      "source": [
        "## Спецификация MapReduce\n",
        "\n",
        "\n",
        "\n",
        "```\n",
        "f (k1, v1) -> (k2,v2)*\n",
        "g (k2, v2*) -> (k3,v3)*\n",
        "\n",
        "mapreduce ((k1,v1)*) -> (k3,v3)*\n",
        "groupby ((k2,v2)*) -> (k2,v2*)*\n",
        "flatten (e2**) -> e2*\n",
        "\n",
        "mapreduce .map(f).flatten.groupby(k2).map(g).flatten\n",
        "```\n",
        "\n",
        "\n"
      ]
    },
    {
      "cell_type": "markdown",
      "metadata": {
        "id": "QtTFyqke3KGe"
      },
      "source": [
        "# Примеры"
      ]
    },
    {
      "cell_type": "markdown",
      "metadata": {
        "id": "BNhh5763w5Vn"
      },
      "source": [
        "## SQL"
      ]
    },
    {
      "cell_type": "code",
      "metadata": {
        "id": "QkyurnvGxBGk",
        "colab": {
          "base_uri": "https://localhost:8080/"
        },
        "outputId": "d2fb6ba0-72f3-4bd3-e8ab-84562ea02527"
      },
      "source": [
        "from typing import NamedTuple # requires python 3.6+\n",
        "from typing import Iterator\n",
        "\n",
        "class User(NamedTuple):\n",
        "  id: int\n",
        "  age: str\n",
        "  social_contacts: int\n",
        "  gender: str\n",
        "\n",
        "input_collection = [\n",
        "    User(id=0, age=55, gender='male', social_contacts=20),\n",
        "    User(id=1, age=25, gender='female', social_contacts=240),\n",
        "    User(id=2, age=25, gender='female', social_contacts=500),\n",
        "    User(id=3, age=33, gender='female', social_contacts=800)\n",
        "]\n",
        "\n",
        "def MAP(_, row:NamedTuple):\n",
        "  if (row.gender == 'female'):\n",
        "    yield (row.age, row)\n",
        "\n",
        "def REDUCE(age:str, rows:Iterator[NamedTuple]):\n",
        "  sum = 0\n",
        "  count = 0\n",
        "  for row in rows:\n",
        "    sum += row.social_contacts\n",
        "    count += 1\n",
        "  if (count > 0):\n",
        "    yield (age, sum/count)\n",
        "  else:\n",
        "    yield (age, 0)\n",
        "\n",
        "def RECORDREADER():\n",
        "  return [(u.id, u) for u in input_collection]\n",
        "\n",
        "output = MapReduce(RECORDREADER, MAP, REDUCE)\n",
        "output = list(output)\n",
        "output"
      ],
      "execution_count": 14,
      "outputs": [
        {
          "output_type": "execute_result",
          "data": {
            "text/plain": [
              "[(25, 370.0), (33, 800.0)]"
            ]
          },
          "metadata": {},
          "execution_count": 14
        }
      ]
    },
    {
      "cell_type": "markdown",
      "metadata": {
        "id": "kNKYIeerx0nY"
      },
      "source": [
        "## Matrix-Vector multiplication"
      ]
    },
    {
      "cell_type": "code",
      "metadata": {
        "id": "rwcntRcCyi1V",
        "colab": {
          "base_uri": "https://localhost:8080/"
        },
        "outputId": "052f894a-75f6-4291-def6-ddeee20644c2"
      },
      "source": [
        "from typing import Iterator\n",
        "import numpy as np\n",
        "\n",
        "mat = np.ones((5,4))\n",
        "vec = np.random.rand(4) # in-memory vector in all map tasks\n",
        "\n",
        "def MAP(coordinates:(int, int), value:int):\n",
        "  i, j = coordinates\n",
        "  yield (i, value*vec[j])\n",
        "\n",
        "def REDUCE(i:int, products:Iterator[NamedTuple]):\n",
        "  sum = 0\n",
        "  for p in products:\n",
        "    sum += p\n",
        "  yield (i, sum)\n",
        "\n",
        "def RECORDREADER():\n",
        "  for i in range(mat.shape[0]):\n",
        "    for j in range(mat.shape[1]):\n",
        "      yield ((i, j), mat[i,j])\n",
        "\n",
        "output = MapReduce(RECORDREADER, MAP, REDUCE)\n",
        "output = list(output)\n",
        "output"
      ],
      "execution_count": 15,
      "outputs": [
        {
          "output_type": "execute_result",
          "data": {
            "text/plain": [
              "[(0, 1.275448460722387),\n",
              " (1, 1.275448460722387),\n",
              " (2, 1.275448460722387),\n",
              " (3, 1.275448460722387),\n",
              " (4, 1.275448460722387)]"
            ]
          },
          "metadata": {},
          "execution_count": 15
        }
      ]
    },
    {
      "cell_type": "markdown",
      "metadata": {
        "id": "ruZREYdi2o4O"
      },
      "source": [
        "## Inverted index"
      ]
    },
    {
      "cell_type": "code",
      "metadata": {
        "id": "vt9H9Alf3TYv",
        "colab": {
          "base_uri": "https://localhost:8080/"
        },
        "outputId": "cbe42899-f3c8-402b-e951-3331b86ffab0"
      },
      "source": [
        "from typing import Iterator\n",
        "\n",
        "d1 = \"it is what it is\"\n",
        "d2 = \"what is it\"\n",
        "d3 = \"it is a banana\"\n",
        "documents = [d1, d2, d3]\n",
        "\n",
        "def RECORDREADER():\n",
        "  for (docid, document) in enumerate(documents):\n",
        "    yield (\"{}\".format(docid), document)\n",
        "\n",
        "def MAP(docId:str, body:str):\n",
        "  for word in set(body.split(' ')):\n",
        "    yield (word, docId)\n",
        "\n",
        "def REDUCE(word:str, docIds:Iterator[str]):\n",
        "  yield (word, sorted(docIds))\n",
        "\n",
        "output = MapReduce(RECORDREADER, MAP, REDUCE)\n",
        "output = list(output)\n",
        "output"
      ],
      "execution_count": 16,
      "outputs": [
        {
          "output_type": "execute_result",
          "data": {
            "text/plain": [
              "[('it', ['0', '1', '2']),\n",
              " ('what', ['0', '1']),\n",
              " ('is', ['0', '1', '2']),\n",
              " ('a', ['2']),\n",
              " ('banana', ['2'])]"
            ]
          },
          "metadata": {},
          "execution_count": 16
        }
      ]
    },
    {
      "cell_type": "markdown",
      "metadata": {
        "id": "R7az-6DA6qr2"
      },
      "source": [
        "## WordCount"
      ]
    },
    {
      "cell_type": "code",
      "metadata": {
        "id": "dN-nbtgG6uYG",
        "colab": {
          "base_uri": "https://localhost:8080/"
        },
        "outputId": "37ad6bee-f431-45bd-af0f-76b7c570a412"
      },
      "source": [
        "from typing import Iterator\n",
        "\n",
        "d1 = \"\"\"\n",
        "it is what it is\n",
        "it is what it is\n",
        "it is what it is\"\"\"\n",
        "d2 = \"\"\"\n",
        "what is it\n",
        "what is it\"\"\"\n",
        "d3 = \"\"\"\n",
        "it is a banana\"\"\"\n",
        "documents = [d1, d2, d3]\n",
        "\n",
        "def RECORDREADER():\n",
        "  for (docid, document) in enumerate(documents):\n",
        "    for (lineid, line) in enumerate(document.split('\\n')):\n",
        "      yield (\"{}:{}\".format(docid,lineid), line)\n",
        "\n",
        "def MAP(docId:str, line:str):\n",
        "  for word in line.split(\" \"):\n",
        "    yield (word, 1)\n",
        "\n",
        "def REDUCE(word:str, counts:Iterator[int]):\n",
        "  sum = 0\n",
        "  for c in counts:\n",
        "    sum += c\n",
        "  yield (word, sum)\n",
        "\n",
        "output = MapReduce(RECORDREADER, MAP, REDUCE)\n",
        "output = list(output)\n",
        "output"
      ],
      "execution_count": 17,
      "outputs": [
        {
          "output_type": "execute_result",
          "data": {
            "text/plain": [
              "[('', 3), ('it', 9), ('is', 9), ('what', 5), ('a', 1), ('banana', 1)]"
            ]
          },
          "metadata": {},
          "execution_count": 17
        }
      ]
    },
    {
      "cell_type": "markdown",
      "metadata": {
        "id": "h-jRAcYCAkkk"
      },
      "source": [
        "# MapReduce Distributed\n",
        "\n",
        "Добавляется в модель фабрика RECORDREARER-ов --- INPUTFORMAT, функция распределения промежуточных результатов по партициям PARTITIONER, и функция COMBINER для частичной аггрегации промежуточных результатов до распределения по новым партициям."
      ]
    },
    {
      "cell_type": "code",
      "metadata": {
        "id": "nw-b-xJsApgW"
      },
      "source": [
        "def flatten(nested_iterable):\n",
        "  for iterable in nested_iterable:\n",
        "    for element in iterable:\n",
        "      yield element\n",
        "\n",
        "def groupbykey(iterable):\n",
        "  t = {}\n",
        "  for (k2, v2) in iterable:\n",
        "    t[k2] = t.get(k2, []) + [v2]\n",
        "  return t.items()\n",
        "\n",
        "def groupbykey_distributed(map_partitions, PARTITIONER):\n",
        "  global reducers\n",
        "  partitions = [dict() for _ in range(reducers)]\n",
        "  for map_partition in map_partitions:\n",
        "    for (k2, v2) in map_partition:\n",
        "      p = partitions[PARTITIONER(k2)]\n",
        "      p[k2] = p.get(k2, []) + [v2]\n",
        "  return [(partition_id, sorted(partition.items(), key=lambda x: x[0])) for (partition_id, partition) in enumerate(partitions)]\n",
        "\n",
        "def PARTITIONER(obj):\n",
        "  global reducers\n",
        "  return hash(obj) % reducers\n",
        "\n",
        "def MapReduceDistributed(INPUTFORMAT, MAP, REDUCE, PARTITIONER=PARTITIONER, COMBINER=None):\n",
        "  map_partitions = map(lambda record_reader: flatten(map(lambda k1v1: MAP(*k1v1), record_reader)), INPUTFORMAT())\n",
        "  if COMBINER != None:\n",
        "    map_partitions = map(lambda map_partition: flatten(map(lambda k2v2: COMBINER(*k2v2), groupbykey(map_partition))), map_partitions)\n",
        "  reduce_partitions = groupbykey_distributed(map_partitions, PARTITIONER) # shuffle\n",
        "  reduce_outputs = map(lambda reduce_partition: (reduce_partition[0], flatten(map(lambda reduce_input_group: REDUCE(*reduce_input_group), reduce_partition[1]))), reduce_partitions)\n",
        "\n",
        "  print(\"{} key-value pairs were sent over a network.\".format(sum([len(vs) for (k,vs) in flatten([partition for (partition_id, partition) in reduce_partitions])])))\n",
        "  return reduce_outputs"
      ],
      "execution_count": 18,
      "outputs": []
    },
    {
      "cell_type": "markdown",
      "metadata": {
        "id": "kxirlf3XqZxY"
      },
      "source": [
        "## Спецификация MapReduce Distributed\n",
        "\n",
        "\n",
        "```\n",
        "f (k1, v1) -> (k2,v2)*\n",
        "g (k2, v2*) -> (k3,v3)*\n",
        "\n",
        "e1 (k1, v1)\n",
        "e2 (k2, v2)\n",
        "partition1 (k2, v2)*\n",
        "partition2 (k2, v2*)*\n",
        "\n",
        "flatmap (e1->e2*, e1*) -> partition1*\n",
        "groupby (partition1*) -> partition2*\n",
        "\n",
        "mapreduce ((k1,v1)*) -> (k3,v3)*\n",
        "mapreduce .flatmap(f).groupby(k2).flatmap(g)\n",
        "```\n",
        "\n"
      ]
    },
    {
      "cell_type": "markdown",
      "metadata": {
        "id": "CWYw_CpbbY3C"
      },
      "source": [
        "## WordCount"
      ]
    },
    {
      "cell_type": "code",
      "metadata": {
        "id": "uR_zfGFkMZlp",
        "colab": {
          "base_uri": "https://localhost:8080/"
        },
        "outputId": "b351f1f3-cba5-49e0-f598-5be682e2d95b"
      },
      "source": [
        "from typing import Iterator\n",
        "import numpy as np\n",
        "\n",
        "d1 = \"\"\"\n",
        "it is what it is\n",
        "it is what it is\n",
        "it is what it is\"\"\"\n",
        "d2 = \"\"\"\n",
        "what is it\n",
        "what is it\"\"\"\n",
        "d3 = \"\"\"\n",
        "it is a banana\"\"\"\n",
        "documents = [d1, d2, d3, d1, d2, d3]\n",
        "\n",
        "maps = 3\n",
        "reducers = 2\n",
        "\n",
        "def INPUTFORMAT():\n",
        "  global maps\n",
        "\n",
        "  def RECORDREADER(split):\n",
        "    for (docid, document) in enumerate(split):\n",
        "      for (lineid, line) in enumerate(document.split('\\n')):\n",
        "        yield (\"{}:{}\".format(docid,lineid), line)\n",
        "\n",
        "  split_size =  int(np.ceil(len(documents)/maps))\n",
        "  for i in range(0, len(documents), split_size):\n",
        "    yield RECORDREADER(documents[i:i+split_size])\n",
        "\n",
        "def MAP(docId:str, line:str):\n",
        "  for word in line.split(\" \"):\n",
        "    yield (word, 1)\n",
        "\n",
        "def REDUCE(word:str, counts:Iterator[int]):\n",
        "  sum = 0\n",
        "  for c in counts:\n",
        "    sum += c\n",
        "  yield (word, sum)\n",
        "\n",
        "# try to set COMBINER=REDUCER and look at the number of values sent over the network\n",
        "partitioned_output = MapReduceDistributed(INPUTFORMAT, MAP, REDUCE, COMBINER=None)\n",
        "partitioned_output = [(partition_id, list(partition)) for (partition_id, partition) in partitioned_output]\n",
        "partitioned_output"
      ],
      "execution_count": 19,
      "outputs": [
        {
          "output_type": "stream",
          "name": "stdout",
          "text": [
            "56 key-value pairs were sent over a network.\n"
          ]
        },
        {
          "output_type": "execute_result",
          "data": {
            "text/plain": [
              "[(0, [('', 6), ('a', 2), ('banana', 2), ('what', 10)]),\n",
              " (1, [('is', 18), ('it', 18)])]"
            ]
          },
          "metadata": {},
          "execution_count": 19
        }
      ]
    },
    {
      "cell_type": "markdown",
      "metadata": {
        "id": "gCJGx8IQ87xS"
      },
      "source": [
        "## TeraSort"
      ]
    },
    {
      "cell_type": "code",
      "metadata": {
        "id": "P2v8v1v_8_YR",
        "colab": {
          "base_uri": "https://localhost:8080/"
        },
        "outputId": "f3d8686b-ada5-4a60-dd44-15bccdf4f56b"
      },
      "source": [
        "import numpy as np\n",
        "\n",
        "input_values = np.random.rand(30)\n",
        "maps = 3\n",
        "reducers = 2\n",
        "min_value = 0.0\n",
        "max_value = 1.0\n",
        "\n",
        "def INPUTFORMAT():\n",
        "  global maps\n",
        "\n",
        "  def RECORDREADER(split):\n",
        "    for value in split:\n",
        "        yield (value, None)\n",
        "\n",
        "  split_size =  int(np.ceil(len(input_values)/maps))\n",
        "  for i in range(0, len(input_values), split_size):\n",
        "    yield RECORDREADER(input_values[i:i+split_size])\n",
        "\n",
        "def MAP(value:int, _):\n",
        "  yield (value, None)\n",
        "\n",
        "def PARTITIONER(key):\n",
        "  global reducers\n",
        "  global max_value\n",
        "  global min_value\n",
        "  bucket_size = (max_value-min_value)/reducers\n",
        "  bucket_id = 0\n",
        "  while((key>(bucket_id+1)*bucket_size) and ((bucket_id+1)*bucket_size<max_value)):\n",
        "    bucket_id += 1\n",
        "  return bucket_id\n",
        "\n",
        "def REDUCE(value:int, _):\n",
        "  yield (None,value)\n",
        "\n",
        "partitioned_output = MapReduceDistributed(INPUTFORMAT, MAP, REDUCE, COMBINER=None, PARTITIONER=PARTITIONER)\n",
        "partitioned_output = [(partition_id, list(partition)) for (partition_id, partition) in partitioned_output]\n",
        "partitioned_output"
      ],
      "execution_count": 20,
      "outputs": [
        {
          "output_type": "stream",
          "name": "stdout",
          "text": [
            "30 key-value pairs were sent over a network.\n"
          ]
        },
        {
          "output_type": "execute_result",
          "data": {
            "text/plain": [
              "[(0,\n",
              "  [(None, 0.005981062479298305),\n",
              "   (None, 0.015761060546713335),\n",
              "   (None, 0.03679871171019211),\n",
              "   (None, 0.052437095405092116),\n",
              "   (None, 0.05342025172191778),\n",
              "   (None, 0.16107894959885172),\n",
              "   (None, 0.16949899499029353),\n",
              "   (None, 0.1700782116909365),\n",
              "   (None, 0.2655482668904836),\n",
              "   (None, 0.29345425665843683),\n",
              "   (None, 0.31639675840487935),\n",
              "   (None, 0.3180100082737155),\n",
              "   (None, 0.34890515291192803),\n",
              "   (None, 0.41662541407306886),\n",
              "   (None, 0.4360861646801152)]),\n",
              " (1,\n",
              "  [(None, 0.5153151120884983),\n",
              "   (None, 0.5358068711160389),\n",
              "   (None, 0.5538814289357271),\n",
              "   (None, 0.5892307240265636),\n",
              "   (None, 0.608701382511187),\n",
              "   (None, 0.6425117029301601),\n",
              "   (None, 0.6788228033594661),\n",
              "   (None, 0.6934341459646108),\n",
              "   (None, 0.7031184165410632),\n",
              "   (None, 0.7042351438619909),\n",
              "   (None, 0.7899975698075133),\n",
              "   (None, 0.8271080923156376),\n",
              "   (None, 0.8661641414373076),\n",
              "   (None, 0.8923793379043262),\n",
              "   (None, 0.9330326072968295)])]"
            ]
          },
          "metadata": {},
          "execution_count": 20
        }
      ]
    },
    {
      "cell_type": "code",
      "metadata": {
        "id": "MQhoJaVZI93G"
      },
      "source": [],
      "execution_count": null,
      "outputs": []
    },
    {
      "cell_type": "markdown",
      "metadata": {
        "id": "Iy65YJTH99iT"
      },
      "source": [
        "# Упражнения\n",
        "Упражнения взяты из Rajaraman A., Ullman J. D. Mining of massive datasets. – Cambridge University Press, 2011.\n",
        "\n",
        "\n",
        "Для выполнения заданий переопределите функции RECORDREADER, MAP, REDUCE. Для модели распределённой системы может потребоваться переопределение функций PARTITION и COMBINER."
      ]
    },
    {
      "cell_type": "markdown",
      "metadata": {
        "id": "cfvAeZm3S8S8"
      },
      "source": [
        "### Максимальное значение ряда\n",
        "\n",
        "Разработайте MapReduce алгоритм, который находит максимальное число входного списка чисел."
      ]
    },
    {
      "cell_type": "code",
      "metadata": {
        "id": "3GRA1JR-Tkbg",
        "colab": {
          "base_uri": "https://localhost:8080/"
        },
        "outputId": "f2f3d204-2dd4-4698-bcbd-fe61b6bcf76a"
      },
      "source": [
        "import random\n",
        "from functools import reduce\n",
        "\n",
        "def RECORDREADER(count, part_size):\n",
        "    data = [random.randint(-100, 100) for _ in range(count)]\n",
        "    for i in range(0, count, part_size):\n",
        "        yield data[i:i+part_size]\n",
        "\n",
        "def MAP(num_list):\n",
        "    return max(num_list)\n",
        "\n",
        "def REDUCE(max1, max2):\n",
        "    return max(max1, max2)\n",
        "\n",
        "num_count = 20\n",
        "part_size = 5\n",
        "\n",
        "record_reader_list = list(RECORDREADER(num_count, part_size))\n",
        "\n",
        "full_list_nums = [num for part in record_reader_list for num in part]\n",
        "print(\"Исходный список чисел:\", full_list_nums)\n",
        "print(\"Разбитый на части список:\", record_reader_list)\n",
        "\n",
        "mapped_values = list(map(MAP, record_reader_list))\n",
        "print(\"Локальные максимумы:\", mapped_values)\n",
        "\n",
        "result = reduce(REDUCE, mapped_values)\n",
        "print(\"Глобальный максимум:\", result)"
      ],
      "execution_count": 21,
      "outputs": [
        {
          "output_type": "stream",
          "name": "stdout",
          "text": [
            "Исходный список чисел: [27, -40, 5, 97, 89, -20, -11, -5, 1, 0, 29, -77, 24, -70, -40, 3, 89, 74, 52, -79]\n",
            "Разбитый на части список: [[27, -40, 5, 97, 89], [-20, -11, -5, 1, 0], [29, -77, 24, -70, -40], [3, 89, 74, 52, -79]]\n",
            "Локальные максимумы: [97, 1, 29, 89]\n",
            "Глобальный максимум: 97\n"
          ]
        }
      ]
    },
    {
      "cell_type": "markdown",
      "metadata": {
        "id": "k86bXnqZTk-U"
      },
      "source": [
        "### Арифметическое среднее\n",
        "\n",
        "Разработайте MapReduce алгоритм, который находит арифметическое среднее.\n",
        "\n",
        "$$\\overline{X} = \\frac{1}{n}\\sum_{i=0}^{n} x_i$$\n"
      ]
    },
    {
      "cell_type": "code",
      "metadata": {
        "id": "MPoY5pkfUNZf",
        "colab": {
          "base_uri": "https://localhost:8080/"
        },
        "outputId": "3e722256-673a-4f17-f4b9-eeb896b3c676"
      },
      "source": [
        "import random\n",
        "from functools import reduce\n",
        "\n",
        "def RECORDREADER(count, part_size):\n",
        "    data = [random.randint(0, 100) for _ in range(count)]\n",
        "    for i in range(0, count, part_size):\n",
        "        yield data[i:i+part_size]\n",
        "\n",
        "def MAP(num_list):\n",
        "    return (sum(num_list), len(num_list))\n",
        "\n",
        "def REDUCE(accum, value):\n",
        "    total_sum = accum[0] + value[0]\n",
        "    total_count = accum[1] + value[1]\n",
        "    return (total_sum, total_count)\n",
        "\n",
        "num_count = 20\n",
        "part_size = 5\n",
        "\n",
        "record_reader_list = list(RECORDREADER(num_count, part_size))\n",
        "\n",
        "full_list_nums = [num for part in record_reader_list for num in part]\n",
        "print(\"Исходный список чисел:\", full_list_nums)\n",
        "print(\"Разбитый на части список:\", record_reader_list)\n",
        "\n",
        "mapped_values = list(map(MAP, record_reader_list))\n",
        "print(\"Локальные суммы и количества элементов:\", mapped_values)\n",
        "\n",
        "total_sum, total_count = reduce(REDUCE, mapped_values)\n",
        "print(\"Арифметическое среднее:\", total_sum / total_count)"
      ],
      "execution_count": 22,
      "outputs": [
        {
          "output_type": "stream",
          "name": "stdout",
          "text": [
            "Исходный список чисел: [99, 12, 98, 23, 50, 82, 72, 72, 22, 31, 37, 45, 4, 22, 52, 85, 41, 9, 3, 43]\n",
            "Разбитый на части список: [[99, 12, 98, 23, 50], [82, 72, 72, 22, 31], [37, 45, 4, 22, 52], [85, 41, 9, 3, 43]]\n",
            "Локальные суммы и количества элементов: [(282, 5), (279, 5), (160, 5), (181, 5)]\n",
            "Арифметическое среднее: 45.1\n"
          ]
        }
      ]
    },
    {
      "cell_type": "markdown",
      "metadata": {
        "id": "xanzszhsIlLe"
      },
      "source": [
        "### GroupByKey на основе сортировки\n",
        "\n",
        "Реализуйте groupByKey на основе сортировки, проверьте его работу на примерах"
      ]
    },
    {
      "cell_type": "code",
      "metadata": {
        "id": "hQPn3USsIkEC",
        "colab": {
          "base_uri": "https://localhost:8080/"
        },
        "outputId": "c1580da7-c2be-4398-eade-1d233b9acf34"
      },
      "source": [
        "import random\n",
        "from functools import reduce\n",
        "\n",
        "def RECORDREADER(count):\n",
        "    return [random.randint(0, 10) for _ in range(count)]\n",
        "\n",
        "def MAP(num):\n",
        "    key = num % 3\n",
        "    return key, (num, 1)\n",
        "\n",
        "def REDUCE(a, b):\n",
        "    total_sum = a[0] + b[0]\n",
        "    total_count = a[1] + b[1]\n",
        "    return total_sum, total_count\n",
        "\n",
        "def groupByKey(mapped_data):\n",
        "    mapped_data.sort(key=lambda x: x[0])\n",
        "    grouped_data = {}\n",
        "    for key, value in mapped_data:\n",
        "        grouped_data.setdefault(key, []).append(value)\n",
        "    return grouped_data.items()\n",
        "\n",
        "data = RECORDREADER(20)\n",
        "print(\"Исходные данные:\", data)\n",
        "\n",
        "map_list = list(map(MAP, data))\n",
        "print(\"\\nРезультат MAP:\")\n",
        "for value in map_list:\n",
        "    print(value)\n",
        "\n",
        "grouped_data = groupByKey(map_list)\n",
        "print(\"\\nГруппированные данные:\")\n",
        "for key, values in grouped_data:\n",
        "    print(f\"Ключ {key}: {values}\")\n",
        "\n",
        "reduced_values = [(key, reduce(REDUCE, values)) for key, values in grouped_data]\n",
        "\n",
        "group_result = {key: total_sum / total_count for key, (total_sum, total_count) in reduced_values}\n",
        "\n",
        "print(\"\\nАрифметическое среднее в каждой группе:\")\n",
        "for key, value in group_result.items():\n",
        "    print(f\"Ключ {key}: {value}\")\n",
        "\n",
        "total_sum, total_count = reduce(REDUCE, [values for _, values in reduced_values])\n",
        "print(\"\\nОбщее арифметическое среднее:\", total_sum / total_count)"
      ],
      "execution_count": 23,
      "outputs": [
        {
          "output_type": "stream",
          "name": "stdout",
          "text": [
            "Исходные данные: [4, 1, 9, 4, 9, 7, 9, 10, 3, 8, 9, 5, 9, 6, 0, 9, 7, 3, 5, 9]\n",
            "\n",
            "Результат MAP:\n",
            "(1, (4, 1))\n",
            "(1, (1, 1))\n",
            "(0, (9, 1))\n",
            "(1, (4, 1))\n",
            "(0, (9, 1))\n",
            "(1, (7, 1))\n",
            "(0, (9, 1))\n",
            "(1, (10, 1))\n",
            "(0, (3, 1))\n",
            "(2, (8, 1))\n",
            "(0, (9, 1))\n",
            "(2, (5, 1))\n",
            "(0, (9, 1))\n",
            "(0, (6, 1))\n",
            "(0, (0, 1))\n",
            "(0, (9, 1))\n",
            "(1, (7, 1))\n",
            "(0, (3, 1))\n",
            "(2, (5, 1))\n",
            "(0, (9, 1))\n",
            "\n",
            "Группированные данные:\n",
            "Ключ 0: [(9, 1), (9, 1), (9, 1), (3, 1), (9, 1), (9, 1), (6, 1), (0, 1), (9, 1), (3, 1), (9, 1)]\n",
            "Ключ 1: [(4, 1), (1, 1), (4, 1), (7, 1), (10, 1), (7, 1)]\n",
            "Ключ 2: [(8, 1), (5, 1), (5, 1)]\n",
            "\n",
            "Арифметическое среднее в каждой группе:\n",
            "Ключ 0: 6.818181818181818\n",
            "Ключ 1: 5.5\n",
            "Ключ 2: 6.0\n",
            "\n",
            "Общее арифметическое среднее: 6.3\n"
          ]
        }
      ]
    },
    {
      "cell_type": "markdown",
      "metadata": {
        "id": "5SgEjCZyGnu6"
      },
      "source": [
        "### Drop duplicates (set construction, unique elements, distinct)\n",
        "\n",
        "Реализуйте распределённую операцию исключения дубликатов"
      ]
    },
    {
      "cell_type": "code",
      "metadata": {
        "id": "okjbyApjGhMt",
        "colab": {
          "base_uri": "https://localhost:8080/"
        },
        "outputId": "9bb1ebd9-73a2-42b4-ec5c-ab12040c17a9"
      },
      "source": [
        "from typing import Iterator\n",
        "import numpy as np\n",
        "\n",
        "def flatten(nested_iterable):\n",
        "    for iterable in nested_iterable:\n",
        "        for element in iterable:\n",
        "            yield element\n",
        "\n",
        "def groupbykey(iterable):\n",
        "    grouped_data = {}\n",
        "    for key, value in iterable:\n",
        "        grouped_data.setdefault(key, []).append(value)\n",
        "    return list(grouped_data.items())\n",
        "\n",
        "def groupbykey_distributed(map_partitions, PARTITIONER):\n",
        "    global reducers\n",
        "    partitions = [dict() for _ in range(reducers)]\n",
        "    for map_partition in map_partitions:\n",
        "        for key, value in map_partition:\n",
        "            p = partitions[PARTITIONER(key)]\n",
        "            p.setdefault(key, []).append(value)\n",
        "    return [(partition_id, sorted(partition.items(), key=lambda x: x[0])) for (partition_id, partition) in enumerate(partitions)]\n",
        "\n",
        "def PARTITIONER(obj):\n",
        "    global reducers\n",
        "    return hash(obj) % reducers\n",
        "\n",
        "def MapReduceDistributed(INPUTFORMAT, MAP, REDUCE, PARTITIONER=PARTITIONER, COMBINER=None):\n",
        "    map_partitions = map(lambda record_reader: flatten(map(lambda k1v1: MAP(*k1v1), record_reader)), INPUTFORMAT())\n",
        "\n",
        "    if COMBINER is not None:\n",
        "        map_partitions = map(lambda map_partition: flatten(map(lambda k2v2: COMBINER(*k2v2), groupbykey(map_partition))), map_partitions)\n",
        "\n",
        "    reduce_partitions = groupbykey_distributed(map_partitions, PARTITIONER)\n",
        "\n",
        "    reduce_outputs = map(lambda reduce_partition: (reduce_partition[0], flatten(map(lambda reduce_input_group: REDUCE(*reduce_input_group),\n",
        "                                                                                      reduce_partition[1]))), reduce_partitions)\n",
        "    total_values_sent = sum([len(vs) for (k, vs) in flatten([partition for (partition_id, partition) in reduce_partitions])])\n",
        "\n",
        "    print(f\"{total_values_sent} key-value pairs were sent over a network.\")\n",
        "    return reduce_outputs\n",
        "\n",
        "documents = [\n",
        "    \"apple banana orange apple\",\n",
        "    \"banana apple grape\",\n",
        "    \"grape banana orange\",\n",
        "    \"apple orange banana apple\",\n",
        "]\n",
        "\n",
        "maps = 2\n",
        "reducers = 2\n",
        "\n",
        "def INPUTFORMAT():\n",
        "    global maps\n",
        "\n",
        "    def RECORDREADER(split):\n",
        "        for (docid, document) in enumerate(split):\n",
        "            for word in document.split(\" \"):\n",
        "                yield (docid, word)\n",
        "\n",
        "    split_size = int(np.ceil(len(documents) / maps))\n",
        "    for i in range(0, len(documents), split_size):\n",
        "        yield RECORDREADER(documents[i:i + split_size])\n",
        "\n",
        "def MAP(docId: int, word: str):\n",
        "    yield (word, None)\n",
        "\n",
        "def REDUCE(key: str, _):\n",
        "    yield key\n",
        "\n",
        "partitioned_output = MapReduceDistributed(INPUTFORMAT, MAP, REDUCE, COMBINER=None)\n",
        "partitioned_output = [(partition_id, list(partition)) for (partition_id, partition) in partitioned_output]\n",
        "print(partitioned_output)"
      ],
      "execution_count": 24,
      "outputs": [
        {
          "output_type": "stream",
          "name": "stdout",
          "text": [
            "14 key-value pairs were sent over a network.\n",
            "[(0, ['banana', 'grape', 'orange']), (1, ['apple'])]\n"
          ]
        }
      ]
    },
    {
      "cell_type": "markdown",
      "metadata": {
        "id": "e7sRGoTXuJze"
      },
      "source": [
        "#Операторы реляционной алгебры\n",
        "### Selection (Выборка)\n",
        "\n",
        "**The Map Function**: Для  каждого кортежа $t \\in R$ вычисляется истинность предиката $C$. В случае истины создаётся пара ключ-значение $(t, t)$. В паре ключ и значение одинаковы, равны $t$.\n",
        "\n",
        "**The Reduce Function:** Роль функции Reduce выполняет функция идентичности, которая возвращает то же значение, что получила на вход.\n",
        "\n"
      ]
    },
    {
      "cell_type": "code",
      "metadata": {
        "id": "4nKIKe59uIfc",
        "colab": {
          "base_uri": "https://localhost:8080/"
        },
        "outputId": "d40e12c2-6ec8-485b-e87c-c7dec8009cca"
      },
      "source": [
        "import random\n",
        "\n",
        "def RECORDREADER(count):\n",
        "  data = []\n",
        "  for _ in range(count):\n",
        "    data.append((random.randint(0, 100), random.randint(0, 100)))\n",
        "  return data\n",
        "\n",
        "def MAP(list_tuples):\n",
        "  return [(t, t) for t in list_tuples if C(t)]\n",
        "\n",
        "def REDUCE(map_list):\n",
        "  return [t for t, _ in map_list]\n",
        "\n",
        "def C(t):\n",
        "  return t[0] % 2 == 0 and t[1] % 2 == 0\n",
        "\n",
        "record = RECORDREADER(10)\n",
        "\n",
        "mapped = MAP(record)\n",
        "reduced = REDUCE(mapped)\n",
        "\n",
        "print(\"Исходные данные:\", record)\n",
        "print(\"MAP:\", mapped)\n",
        "print(\"REDUCE:\", reduced)"
      ],
      "execution_count": 25,
      "outputs": [
        {
          "output_type": "stream",
          "name": "stdout",
          "text": [
            "Исходные данные: [(7, 80), (72, 0), (84, 78), (72, 3), (57, 33), (81, 43), (57, 13), (46, 17), (9, 40), (81, 32)]\n",
            "MAP: [((72, 0), (72, 0)), ((84, 78), (84, 78))]\n",
            "REDUCE: [(72, 0), (84, 78)]\n"
          ]
        }
      ]
    },
    {
      "cell_type": "markdown",
      "metadata": {
        "id": "w27Ca-_Ku85V"
      },
      "source": [
        "### Projection (Проекция)\n",
        "\n",
        "Проекция на множество атрибутов $S$.\n",
        "\n",
        "**The Map Function:** Для каждого кортежа $t \\in R$ создайте кортеж $t′$, исключая  из $t$ те значения, атрибуты которых не принадлежат  $S$. Верните пару $(t′, t′)$.\n",
        "\n",
        "**The Reduce Function:** Для каждого ключа $t′$, созданного любой Map задачей, вы получаете одну или несколько пар $(t′, t′)$. Reduce функция преобразует $(t′, [t′, t′, . . . , t′])$ в $(t′, t′)$, так, что для ключа $t′$ возвращается одна пара  $(t′, t′)$."
      ]
    },
    {
      "cell_type": "code",
      "metadata": {
        "id": "BEvuY4GqvhS6",
        "colab": {
          "base_uri": "https://localhost:8080/"
        },
        "outputId": "4c262ef3-d903-4a32-c981-6b1c480d5da7"
      },
      "source": [
        "import random\n",
        "\n",
        "def RECORDREADER(count):\n",
        "  data = []\n",
        "  for _ in range(count):\n",
        "    data.append((random.randint(0, 100), random.randint(0, 100)))\n",
        "  return data\n",
        "\n",
        "def MAP(t):\n",
        "  S = {10, 20, 30, 40, 50}\n",
        "  res = tuple(el for el in t if el in S)\n",
        "  return (res, res) if res else None\n",
        "\n",
        "def REDUCE(key, values):\n",
        "  return (key, key)\n",
        "\n",
        "\n",
        "def group_by_key(iterable):\n",
        "  t = {}\n",
        "  for (k2, v2) in iterable:\n",
        "    t[k2] = t.get(k2, []) + [v2]\n",
        "  return t.items()\n",
        "\n",
        "record = RECORDREADER(30)\n",
        "print(\"RECORDREADER:\", record)\n",
        "\n",
        "mapped = [MAP(x) for x in record if MAP(x) is not None]\n",
        "print(\"MAP:\", mapped)\n",
        "\n",
        "shuffle_output = list(group_by_key(mapped))\n",
        "print(\"Shuffle:\", shuffle_output)\n",
        "\n",
        "reduced = [REDUCE(k, v) for k, v in shuffle_output]\n",
        "print(\"REDUCE:\", reduced)"
      ],
      "execution_count": 27,
      "outputs": [
        {
          "output_type": "stream",
          "name": "stdout",
          "text": [
            "RECORDREADER: [(97, 48), (61, 72), (96, 37), (18, 76), (90, 67), (76, 50), (47, 27), (65, 19), (65, 54), (83, 37), (49, 35), (59, 29), (12, 33), (81, 59), (1, 88), (18, 30), (12, 16), (63, 72), (1, 85), (28, 42), (69, 97), (71, 53), (26, 83), (12, 87), (14, 44), (56, 44), (99, 78), (19, 71), (71, 17), (19, 80)]\n",
            "MAP: [((50,), (50,)), ((30,), (30,))]\n",
            "Shuffle: [((50,), [(50,)]), ((30,), [(30,)])]\n",
            "REDUCE: [((50,), (50,)), ((30,), (30,))]\n"
          ]
        }
      ]
    },
    {
      "cell_type": "markdown",
      "metadata": {
        "id": "7gau6lKXvn2R"
      },
      "source": [
        "### Union (Объединение)\n",
        "\n",
        "**The Map Function:** Превратите каждый входной кортеж $t$ в пару ключ-значение $(t, t)$.\n",
        "\n",
        "**The Reduce Function:** С каждым ключом $t$ будет ассоциировано одно или два значений. В обоих случаях создайте $(t, t)$ в качестве выходного значения."
      ]
    },
    {
      "cell_type": "code",
      "metadata": {
        "id": "Sns7a5agv3nw",
        "colab": {
          "base_uri": "https://localhost:8080/"
        },
        "outputId": "9e475eac-cf63-4c2a-aa4a-76e651898cf0"
      },
      "source": [
        "import random\n",
        "\n",
        "def RECORDREADER(count):\n",
        "    return [(random.randint(0, 100), random.randint(0, 100)) for _ in range(count)]\n",
        "\n",
        "def MAP(t):\n",
        "    return (t, t)\n",
        "\n",
        "def REDUCE(key, values):\n",
        "    return (key, key)\n",
        "\n",
        "def group_by_key(iterable):\n",
        "    t = {}\n",
        "    for (k2, v2) in iterable:\n",
        "        t[k2] = t.get(k2, []) + [v2]\n",
        "    return t.items()\n",
        "\n",
        "record = RECORDREADER(15)\n",
        "print(\"RECORDREADER:\", record)\n",
        "\n",
        "map_output = [MAP(x) for x in record]\n",
        "print(\"MAP output:\", map_output)\n",
        "\n",
        "shuffle_output = list(group_by_key(map_output))\n",
        "print(\"Shuffle output:\", shuffle_output)\n",
        "\n",
        "reduce_output = [REDUCE(k, v) for k, v in shuffle_output]\n",
        "print(\"Reduce output:\", reduce_output)"
      ],
      "execution_count": 28,
      "outputs": [
        {
          "output_type": "stream",
          "name": "stdout",
          "text": [
            "RECORDREADER: [(87, 62), (94, 71), (96, 98), (43, 48), (88, 9), (4, 88), (23, 93), (62, 94), (40, 66), (3, 54), (79, 97), (37, 55), (88, 26), (90, 26), (70, 23)]\n",
            "MAP output: [((87, 62), (87, 62)), ((94, 71), (94, 71)), ((96, 98), (96, 98)), ((43, 48), (43, 48)), ((88, 9), (88, 9)), ((4, 88), (4, 88)), ((23, 93), (23, 93)), ((62, 94), (62, 94)), ((40, 66), (40, 66)), ((3, 54), (3, 54)), ((79, 97), (79, 97)), ((37, 55), (37, 55)), ((88, 26), (88, 26)), ((90, 26), (90, 26)), ((70, 23), (70, 23))]\n",
            "Shuffle output: [((87, 62), [(87, 62)]), ((94, 71), [(94, 71)]), ((96, 98), [(96, 98)]), ((43, 48), [(43, 48)]), ((88, 9), [(88, 9)]), ((4, 88), [(4, 88)]), ((23, 93), [(23, 93)]), ((62, 94), [(62, 94)]), ((40, 66), [(40, 66)]), ((3, 54), [(3, 54)]), ((79, 97), [(79, 97)]), ((37, 55), [(37, 55)]), ((88, 26), [(88, 26)]), ((90, 26), [(90, 26)]), ((70, 23), [(70, 23)])]\n",
            "Reduce output: [((87, 62), (87, 62)), ((94, 71), (94, 71)), ((96, 98), (96, 98)), ((43, 48), (43, 48)), ((88, 9), (88, 9)), ((4, 88), (4, 88)), ((23, 93), (23, 93)), ((62, 94), (62, 94)), ((40, 66), (40, 66)), ((3, 54), (3, 54)), ((79, 97), (79, 97)), ((37, 55), (37, 55)), ((88, 26), (88, 26)), ((90, 26), (90, 26)), ((70, 23), (70, 23))]\n"
          ]
        }
      ]
    },
    {
      "cell_type": "markdown",
      "metadata": {
        "id": "dQ8TuEbjv4J8"
      },
      "source": [
        "### Intersection (Пересечение)\n",
        "\n",
        "**The Map Function:** Превратите каждый кортеж $t$ в пары ключ-значение $(t, t)$.\n",
        "\n",
        "**The Reduce Function:** Если для ключа $t$ есть список из двух элементов $[t, t]$ $-$ создайте пару $(t, t)$. Иначе, ничего не создавайте."
      ]
    },
    {
      "cell_type": "code",
      "metadata": {
        "id": "XKlBZh4IwERR",
        "colab": {
          "base_uri": "https://localhost:8080/"
        },
        "outputId": "24e03e32-b1da-44bf-ba28-dbd61d19fcfe"
      },
      "source": [
        "import random\n",
        "\n",
        "def RECORDREADER(count):\n",
        "    return [(random.randint(0, 5), random.randint(0, 5)) for _ in range(count)]\n",
        "\n",
        "def MAP(t):\n",
        "    return (t, t)\n",
        "\n",
        "def REDUCE(key, values):\n",
        "    if len(values) == 2:\n",
        "        return (key, key)\n",
        "\n",
        "def group_by_key(iterable):\n",
        "    t = {}\n",
        "    for (k2, v2) in iterable:\n",
        "        t[k2] = t.get(k2, []) + [v2]\n",
        "    return t.items()\n",
        "\n",
        "record = RECORDREADER(50)\n",
        "print(\"RECORDREADER:\", record)\n",
        "\n",
        "map_output = [MAP(x) for x in record]\n",
        "print(\"MAP output:\", map_output)\n",
        "\n",
        "shuffle_output = group_by_key(map_output)\n",
        "shuffle_output = list(shuffle_output)\n",
        "print(\"Shuffle output:\", shuffle_output)\n",
        "\n",
        "reduce_output = [val for val in map(lambda x: REDUCE(*x), shuffle_output) if val is not None]\n",
        "print(\"Reduce output:\", reduce_output)"
      ],
      "execution_count": 29,
      "outputs": [
        {
          "output_type": "stream",
          "name": "stdout",
          "text": [
            "RECORDREADER: [(0, 3), (3, 4), (0, 3), (3, 3), (2, 3), (2, 3), (3, 0), (1, 0), (3, 3), (2, 0), (1, 0), (4, 1), (4, 3), (1, 2), (4, 4), (3, 2), (2, 0), (2, 0), (0, 5), (3, 4), (0, 0), (3, 4), (2, 4), (4, 0), (3, 4), (0, 0), (3, 3), (3, 3), (4, 5), (5, 3), (4, 4), (1, 3), (5, 2), (3, 1), (1, 1), (2, 5), (4, 3), (1, 0), (1, 5), (5, 1), (3, 1), (0, 3), (0, 3), (4, 5), (3, 5), (1, 0), (4, 2), (5, 0), (0, 5), (5, 0)]\n",
            "MAP output: [((0, 3), (0, 3)), ((3, 4), (3, 4)), ((0, 3), (0, 3)), ((3, 3), (3, 3)), ((2, 3), (2, 3)), ((2, 3), (2, 3)), ((3, 0), (3, 0)), ((1, 0), (1, 0)), ((3, 3), (3, 3)), ((2, 0), (2, 0)), ((1, 0), (1, 0)), ((4, 1), (4, 1)), ((4, 3), (4, 3)), ((1, 2), (1, 2)), ((4, 4), (4, 4)), ((3, 2), (3, 2)), ((2, 0), (2, 0)), ((2, 0), (2, 0)), ((0, 5), (0, 5)), ((3, 4), (3, 4)), ((0, 0), (0, 0)), ((3, 4), (3, 4)), ((2, 4), (2, 4)), ((4, 0), (4, 0)), ((3, 4), (3, 4)), ((0, 0), (0, 0)), ((3, 3), (3, 3)), ((3, 3), (3, 3)), ((4, 5), (4, 5)), ((5, 3), (5, 3)), ((4, 4), (4, 4)), ((1, 3), (1, 3)), ((5, 2), (5, 2)), ((3, 1), (3, 1)), ((1, 1), (1, 1)), ((2, 5), (2, 5)), ((4, 3), (4, 3)), ((1, 0), (1, 0)), ((1, 5), (1, 5)), ((5, 1), (5, 1)), ((3, 1), (3, 1)), ((0, 3), (0, 3)), ((0, 3), (0, 3)), ((4, 5), (4, 5)), ((3, 5), (3, 5)), ((1, 0), (1, 0)), ((4, 2), (4, 2)), ((5, 0), (5, 0)), ((0, 5), (0, 5)), ((5, 0), (5, 0))]\n",
            "Shuffle output: [((0, 3), [(0, 3), (0, 3), (0, 3), (0, 3)]), ((3, 4), [(3, 4), (3, 4), (3, 4), (3, 4)]), ((3, 3), [(3, 3), (3, 3), (3, 3), (3, 3)]), ((2, 3), [(2, 3), (2, 3)]), ((3, 0), [(3, 0)]), ((1, 0), [(1, 0), (1, 0), (1, 0), (1, 0)]), ((2, 0), [(2, 0), (2, 0), (2, 0)]), ((4, 1), [(4, 1)]), ((4, 3), [(4, 3), (4, 3)]), ((1, 2), [(1, 2)]), ((4, 4), [(4, 4), (4, 4)]), ((3, 2), [(3, 2)]), ((0, 5), [(0, 5), (0, 5)]), ((0, 0), [(0, 0), (0, 0)]), ((2, 4), [(2, 4)]), ((4, 0), [(4, 0)]), ((4, 5), [(4, 5), (4, 5)]), ((5, 3), [(5, 3)]), ((1, 3), [(1, 3)]), ((5, 2), [(5, 2)]), ((3, 1), [(3, 1), (3, 1)]), ((1, 1), [(1, 1)]), ((2, 5), [(2, 5)]), ((1, 5), [(1, 5)]), ((5, 1), [(5, 1)]), ((3, 5), [(3, 5)]), ((4, 2), [(4, 2)]), ((5, 0), [(5, 0), (5, 0)])]\n",
            "Reduce output: [((2, 3), (2, 3)), ((4, 3), (4, 3)), ((4, 4), (4, 4)), ((0, 5), (0, 5)), ((0, 0), (0, 0)), ((4, 5), (4, 5)), ((3, 1), (3, 1)), ((5, 0), (5, 0))]\n"
          ]
        }
      ]
    },
    {
      "cell_type": "markdown",
      "metadata": {
        "id": "AVOpqoY3wE5k"
      },
      "source": [
        "### Difference (Разница)\n",
        "\n",
        "**The Map Function:** Для кортежа $t \\in R$, создайте пару $(t, R)$, и для кортежа $t \\in S$, создайте пару $(t, S)$. Задумка заключается в том, чтобы значение пары было именем отношения $R$ or $S$, которому принадлежит кортеж (а лучше, единичный бит, по которому можно два отношения различить $R$ or $S$), а не весь набор атрибутов отношения.\n",
        "\n",
        "**The Reduce Function:** Для каждого ключа $t$, если соответствующее значение является списком $[R]$, создайте пару $(t, t)$. В иных случаях не предпринимайте действий."
      ]
    },
    {
      "cell_type": "code",
      "metadata": {
        "id": "QE_AC09lwZIZ",
        "colab": {
          "base_uri": "https://localhost:8080/"
        },
        "outputId": "44a10855-14d6-40c1-8b1a-449b30e44bd9"
      },
      "source": [
        "import random\n",
        "\n",
        "rels = [1, 2]\n",
        "\n",
        "class Tuple:\n",
        "    def __init__(self, data: tuple, rel_id: int):\n",
        "        self.data = data\n",
        "        self.rel_id = rel_id\n",
        "\n",
        "def get_random_tuple(count):\n",
        "    data = tuple([(random.randint(0, 5), random.randint(0, 5)) for i in range(count)])\n",
        "    rel_id = rels[random.randint(0, len(rels) - 1)]\n",
        "    return Tuple(data, rel_id)\n",
        "\n",
        "def RECORDREADER(count):\n",
        "    return [get_random_tuple(4) for i in range(count)]\n",
        "\n",
        "def MAP(t: Tuple):\n",
        "    return (t.data, t.rel_id)\n",
        "\n",
        "def REDUCE(key, values):\n",
        "    if values == [rels[0]]:\n",
        "        return (key, key)\n",
        "\n",
        "def group_by_key(iterable):\n",
        "    t = {}\n",
        "    for (k2, v2) in iterable:\n",
        "        t[k2] = t.get(k2, []) + [v2]\n",
        "    return t.items()\n",
        "\n",
        "record = RECORDREADER(50)\n",
        "\n",
        "map_output = list(map(lambda x: MAP(x), RECORDREADER(50)))\n",
        "print(\"MAP output:\", map_output)\n",
        "\n",
        "shuffle_output = group_by_key(map_output)\n",
        "shuffle_output = list(shuffle_output)\n",
        "print(\"Shuffle output:\", shuffle_output)\n",
        "\n",
        "reduce_output = [el[0] for el in list(map(lambda x: REDUCE(*x), shuffle_output)) if el is not None]\n",
        "print(\"Reduce output:\", reduce_output)"
      ],
      "execution_count": 30,
      "outputs": [
        {
          "output_type": "stream",
          "name": "stdout",
          "text": [
            "MAP output: [(((2, 3), (4, 1), (5, 5), (3, 3)), 2), (((4, 2), (3, 5), (0, 3), (1, 4)), 1), (((1, 4), (4, 4), (2, 3), (5, 4)), 2), (((5, 3), (3, 0), (5, 2), (2, 5)), 1), (((4, 5), (1, 3), (0, 1), (4, 0)), 2), (((2, 3), (0, 0), (1, 4), (2, 0)), 2), (((0, 0), (4, 5), (0, 5), (1, 5)), 2), (((0, 1), (1, 3), (5, 3), (3, 4)), 1), (((5, 0), (5, 3), (5, 4), (5, 4)), 2), (((3, 5), (0, 5), (0, 1), (4, 4)), 1), (((0, 3), (4, 5), (5, 0), (1, 4)), 1), (((5, 1), (5, 0), (0, 4), (5, 4)), 1), (((0, 3), (0, 4), (4, 5), (4, 5)), 2), (((1, 4), (3, 2), (3, 1), (3, 0)), 1), (((0, 5), (2, 2), (5, 1), (0, 4)), 1), (((2, 1), (4, 0), (1, 1), (1, 3)), 2), (((4, 0), (0, 0), (3, 0), (2, 2)), 1), (((3, 5), (1, 4), (5, 2), (1, 5)), 1), (((4, 2), (1, 0), (1, 5), (3, 2)), 2), (((3, 1), (3, 5), (0, 2), (0, 4)), 1), (((1, 2), (2, 0), (4, 5), (5, 3)), 2), (((1, 4), (0, 4), (3, 1), (3, 1)), 2), (((0, 4), (5, 1), (3, 0), (4, 1)), 1), (((3, 4), (4, 1), (4, 3), (0, 5)), 2), (((2, 4), (0, 1), (0, 1), (5, 1)), 1), (((5, 5), (0, 1), (2, 1), (0, 2)), 2), (((1, 4), (5, 1), (1, 4), (4, 1)), 1), (((4, 4), (3, 2), (2, 4), (0, 0)), 1), (((3, 5), (1, 2), (2, 5), (1, 1)), 1), (((2, 0), (3, 4), (2, 4), (5, 1)), 1), (((3, 1), (3, 3), (3, 4), (2, 4)), 1), (((3, 5), (3, 1), (3, 0), (5, 2)), 2), (((5, 5), (2, 3), (2, 0), (4, 3)), 1), (((1, 5), (1, 2), (1, 2), (2, 5)), 2), (((5, 5), (2, 1), (2, 5), (2, 5)), 1), (((3, 1), (5, 4), (0, 1), (1, 3)), 1), (((4, 5), (3, 0), (0, 4), (1, 0)), 2), (((5, 1), (2, 3), (0, 5), (5, 2)), 2), (((3, 1), (5, 1), (5, 0), (5, 2)), 2), (((0, 3), (3, 2), (4, 2), (0, 2)), 2), (((5, 4), (3, 2), (3, 3), (2, 1)), 2), (((2, 1), (2, 4), (5, 1), (3, 2)), 2), (((0, 3), (1, 3), (2, 5), (2, 3)), 1), (((0, 3), (4, 1), (1, 3), (2, 2)), 1), (((0, 5), (5, 4), (0, 5), (3, 5)), 2), (((0, 2), (4, 5), (2, 4), (3, 5)), 2), (((1, 3), (5, 2), (4, 0), (5, 2)), 2), (((2, 2), (2, 5), (2, 5), (5, 2)), 1), (((5, 5), (4, 3), (2, 3), (2, 0)), 1), (((0, 1), (1, 4), (4, 5), (1, 0)), 2)]\n",
            "Shuffle output: [(((2, 3), (4, 1), (5, 5), (3, 3)), [2]), (((4, 2), (3, 5), (0, 3), (1, 4)), [1]), (((1, 4), (4, 4), (2, 3), (5, 4)), [2]), (((5, 3), (3, 0), (5, 2), (2, 5)), [1]), (((4, 5), (1, 3), (0, 1), (4, 0)), [2]), (((2, 3), (0, 0), (1, 4), (2, 0)), [2]), (((0, 0), (4, 5), (0, 5), (1, 5)), [2]), (((0, 1), (1, 3), (5, 3), (3, 4)), [1]), (((5, 0), (5, 3), (5, 4), (5, 4)), [2]), (((3, 5), (0, 5), (0, 1), (4, 4)), [1]), (((0, 3), (4, 5), (5, 0), (1, 4)), [1]), (((5, 1), (5, 0), (0, 4), (5, 4)), [1]), (((0, 3), (0, 4), (4, 5), (4, 5)), [2]), (((1, 4), (3, 2), (3, 1), (3, 0)), [1]), (((0, 5), (2, 2), (5, 1), (0, 4)), [1]), (((2, 1), (4, 0), (1, 1), (1, 3)), [2]), (((4, 0), (0, 0), (3, 0), (2, 2)), [1]), (((3, 5), (1, 4), (5, 2), (1, 5)), [1]), (((4, 2), (1, 0), (1, 5), (3, 2)), [2]), (((3, 1), (3, 5), (0, 2), (0, 4)), [1]), (((1, 2), (2, 0), (4, 5), (5, 3)), [2]), (((1, 4), (0, 4), (3, 1), (3, 1)), [2]), (((0, 4), (5, 1), (3, 0), (4, 1)), [1]), (((3, 4), (4, 1), (4, 3), (0, 5)), [2]), (((2, 4), (0, 1), (0, 1), (5, 1)), [1]), (((5, 5), (0, 1), (2, 1), (0, 2)), [2]), (((1, 4), (5, 1), (1, 4), (4, 1)), [1]), (((4, 4), (3, 2), (2, 4), (0, 0)), [1]), (((3, 5), (1, 2), (2, 5), (1, 1)), [1]), (((2, 0), (3, 4), (2, 4), (5, 1)), [1]), (((3, 1), (3, 3), (3, 4), (2, 4)), [1]), (((3, 5), (3, 1), (3, 0), (5, 2)), [2]), (((5, 5), (2, 3), (2, 0), (4, 3)), [1]), (((1, 5), (1, 2), (1, 2), (2, 5)), [2]), (((5, 5), (2, 1), (2, 5), (2, 5)), [1]), (((3, 1), (5, 4), (0, 1), (1, 3)), [1]), (((4, 5), (3, 0), (0, 4), (1, 0)), [2]), (((5, 1), (2, 3), (0, 5), (5, 2)), [2]), (((3, 1), (5, 1), (5, 0), (5, 2)), [2]), (((0, 3), (3, 2), (4, 2), (0, 2)), [2]), (((5, 4), (3, 2), (3, 3), (2, 1)), [2]), (((2, 1), (2, 4), (5, 1), (3, 2)), [2]), (((0, 3), (1, 3), (2, 5), (2, 3)), [1]), (((0, 3), (4, 1), (1, 3), (2, 2)), [1]), (((0, 5), (5, 4), (0, 5), (3, 5)), [2]), (((0, 2), (4, 5), (2, 4), (3, 5)), [2]), (((1, 3), (5, 2), (4, 0), (5, 2)), [2]), (((2, 2), (2, 5), (2, 5), (5, 2)), [1]), (((5, 5), (4, 3), (2, 3), (2, 0)), [1]), (((0, 1), (1, 4), (4, 5), (1, 0)), [2])]\n",
            "Reduce output: [((4, 2), (3, 5), (0, 3), (1, 4)), ((5, 3), (3, 0), (5, 2), (2, 5)), ((0, 1), (1, 3), (5, 3), (3, 4)), ((3, 5), (0, 5), (0, 1), (4, 4)), ((0, 3), (4, 5), (5, 0), (1, 4)), ((5, 1), (5, 0), (0, 4), (5, 4)), ((1, 4), (3, 2), (3, 1), (3, 0)), ((0, 5), (2, 2), (5, 1), (0, 4)), ((4, 0), (0, 0), (3, 0), (2, 2)), ((3, 5), (1, 4), (5, 2), (1, 5)), ((3, 1), (3, 5), (0, 2), (0, 4)), ((0, 4), (5, 1), (3, 0), (4, 1)), ((2, 4), (0, 1), (0, 1), (5, 1)), ((1, 4), (5, 1), (1, 4), (4, 1)), ((4, 4), (3, 2), (2, 4), (0, 0)), ((3, 5), (1, 2), (2, 5), (1, 1)), ((2, 0), (3, 4), (2, 4), (5, 1)), ((3, 1), (3, 3), (3, 4), (2, 4)), ((5, 5), (2, 3), (2, 0), (4, 3)), ((5, 5), (2, 1), (2, 5), (2, 5)), ((3, 1), (5, 4), (0, 1), (1, 3)), ((0, 3), (1, 3), (2, 5), (2, 3)), ((0, 3), (4, 1), (1, 3), (2, 2)), ((2, 2), (2, 5), (2, 5), (5, 2)), ((5, 5), (4, 3), (2, 3), (2, 0))]\n"
          ]
        }
      ]
    },
    {
      "cell_type": "markdown",
      "metadata": {
        "id": "j8I58V2VwhSm"
      },
      "source": [
        "### Natural Join\n",
        "\n",
        "**The Map Function:** Для каждого кортежа $(a, b)$ отношения $R$, создайте пару $(b,(R, a))$. Для каждого кортежа $(b, c)$ отношения $S$, создайте пару $(b,(S, c))$.\n",
        "\n",
        "**The Reduce Function:** Каждый ключ $b$ будет асоциирован со списком пар, которые принимают форму либо $(R, a)$, либо $(S, c)$. Создайте все пары, одни, состоящие из  первого компонента $R$, а другие, из первого компонента $S$, то есть $(R, a)$ и $(S, c)$. На выходе вы получаете последовательность пар ключ-значение из списков ключей и значений. Ключ не нужен. Каждое значение, это тройка $(a, b, c)$ такая, что $(R, a)$ и $(S, c)$ это принадлежат входному списку значений."
      ]
    },
    {
      "cell_type": "code",
      "metadata": {
        "id": "yHiuuTctw86I",
        "colab": {
          "base_uri": "https://localhost:8080/"
        },
        "outputId": "830f28f9-1b26-4d8e-a15a-31e712c908c3"
      },
      "source": [
        "import random\n",
        "\n",
        "rels = [1, 2]\n",
        "\n",
        "class Tuple:\n",
        "    def __init__(self, data: tuple, rel_id: int):\n",
        "        self.data = data\n",
        "        self.rel_id = rel_id\n",
        "\n",
        "def get_random_tuple():\n",
        "    data = (random.randint(0, 4), random.randint(0, 4))\n",
        "    rel_id = rels[random.randint(0, len(rels) - 1)]\n",
        "    return Tuple(data, rel_id)\n",
        "\n",
        "def RECORDREADER(count):\n",
        "    return [get_random_tuple() for i in range(count)]\n",
        "\n",
        "def MAP(t: Tuple):\n",
        "    if t.rel_id == rels[0]:\n",
        "        return (t.data[1], (t.rel_id, t.data[0]))\n",
        "    else:\n",
        "        return (t.data[0], (t.rel_id, t.data[1]))\n",
        "\n",
        "def REDUCE(key, values):\n",
        "    res = []\n",
        "    for v in values:\n",
        "        res.append((v[0], key, v[1]))\n",
        "    return res\n",
        "\n",
        "def group_by_key(iterable):\n",
        "    t = {}\n",
        "    for (k2, v2) in iterable:\n",
        "        t[k2] = t.get(k2, []) + [v2]\n",
        "    return t.items()\n",
        "\n",
        "record = RECORDREADER(80)\n",
        "\n",
        "map_output = list(map(lambda x: MAP(x), RECORDREADER(80)))\n",
        "print(\"MAP output:\", map_output)\n",
        "\n",
        "shuffle_output = group_by_key(map_output)\n",
        "shuffle_output = list(shuffle_output)\n",
        "print(\"Shuffle output:\", shuffle_output)\n",
        "\n",
        "reduce_output = list(map(lambda x: REDUCE(*x), shuffle_output))\n",
        "print(\"Reduce output:\", reduce_output)"
      ],
      "execution_count": 31,
      "outputs": [
        {
          "output_type": "stream",
          "name": "stdout",
          "text": [
            "MAP output: [(2, (1, 4)), (0, (2, 2)), (1, (1, 1)), (1, (2, 2)), (2, (1, 3)), (3, (2, 4)), (0, (2, 1)), (1, (1, 2)), (4, (1, 4)), (3, (2, 2)), (2, (1, 0)), (3, (1, 1)), (3, (1, 0)), (2, (1, 0)), (0, (2, 3)), (0, (2, 0)), (3, (2, 1)), (1, (1, 3)), (4, (1, 0)), (1, (1, 3)), (1, (2, 2)), (3, (1, 2)), (3, (1, 0)), (0, (1, 4)), (4, (2, 2)), (2, (1, 4)), (3, (1, 4)), (4, (1, 0)), (4, (2, 0)), (4, (1, 0)), (2, (2, 3)), (4, (2, 3)), (4, (2, 3)), (2, (2, 3)), (2, (2, 4)), (1, (2, 1)), (4, (1, 2)), (4, (2, 4)), (3, (1, 0)), (4, (2, 1)), (1, (2, 1)), (0, (2, 0)), (0, (1, 3)), (0, (1, 0)), (0, (2, 0)), (4, (2, 0)), (4, (2, 2)), (3, (2, 2)), (3, (2, 3)), (2, (2, 2)), (1, (1, 0)), (1, (2, 2)), (4, (1, 1)), (2, (1, 3)), (0, (1, 0)), (2, (2, 1)), (0, (1, 2)), (3, (2, 2)), (3, (1, 0)), (3, (1, 4)), (2, (2, 1)), (3, (2, 3)), (4, (2, 3)), (3, (1, 0)), (3, (2, 2)), (2, (1, 2)), (0, (2, 2)), (1, (1, 0)), (4, (2, 4)), (1, (1, 3)), (4, (1, 4)), (2, (2, 2)), (4, (2, 2)), (1, (1, 0)), (2, (2, 0)), (0, (2, 0)), (2, (2, 0)), (2, (2, 3)), (2, (2, 3)), (4, (1, 0))]\n",
            "Shuffle output: [(2, [(1, 4), (1, 3), (1, 0), (1, 0), (1, 4), (2, 3), (2, 3), (2, 4), (2, 2), (1, 3), (2, 1), (2, 1), (1, 2), (2, 2), (2, 0), (2, 0), (2, 3), (2, 3)]), (0, [(2, 2), (2, 1), (2, 3), (2, 0), (1, 4), (2, 0), (1, 3), (1, 0), (2, 0), (1, 0), (1, 2), (2, 2), (2, 0)]), (1, [(1, 1), (2, 2), (1, 2), (1, 3), (1, 3), (2, 2), (2, 1), (2, 1), (1, 0), (2, 2), (1, 0), (1, 3), (1, 0)]), (3, [(2, 4), (2, 2), (1, 1), (1, 0), (2, 1), (1, 2), (1, 0), (1, 4), (1, 0), (2, 2), (2, 3), (2, 2), (1, 0), (1, 4), (2, 3), (1, 0), (2, 2)]), (4, [(1, 4), (1, 0), (2, 2), (1, 0), (2, 0), (1, 0), (2, 3), (2, 3), (1, 2), (2, 4), (2, 1), (2, 0), (2, 2), (1, 1), (2, 3), (2, 4), (1, 4), (2, 2), (1, 0)])]\n",
            "Reduce output: [[(1, 2, 4), (1, 2, 3), (1, 2, 0), (1, 2, 0), (1, 2, 4), (2, 2, 3), (2, 2, 3), (2, 2, 4), (2, 2, 2), (1, 2, 3), (2, 2, 1), (2, 2, 1), (1, 2, 2), (2, 2, 2), (2, 2, 0), (2, 2, 0), (2, 2, 3), (2, 2, 3)], [(2, 0, 2), (2, 0, 1), (2, 0, 3), (2, 0, 0), (1, 0, 4), (2, 0, 0), (1, 0, 3), (1, 0, 0), (2, 0, 0), (1, 0, 0), (1, 0, 2), (2, 0, 2), (2, 0, 0)], [(1, 1, 1), (2, 1, 2), (1, 1, 2), (1, 1, 3), (1, 1, 3), (2, 1, 2), (2, 1, 1), (2, 1, 1), (1, 1, 0), (2, 1, 2), (1, 1, 0), (1, 1, 3), (1, 1, 0)], [(2, 3, 4), (2, 3, 2), (1, 3, 1), (1, 3, 0), (2, 3, 1), (1, 3, 2), (1, 3, 0), (1, 3, 4), (1, 3, 0), (2, 3, 2), (2, 3, 3), (2, 3, 2), (1, 3, 0), (1, 3, 4), (2, 3, 3), (1, 3, 0), (2, 3, 2)], [(1, 4, 4), (1, 4, 0), (2, 4, 2), (1, 4, 0), (2, 4, 0), (1, 4, 0), (2, 4, 3), (2, 4, 3), (1, 4, 2), (2, 4, 4), (2, 4, 1), (2, 4, 0), (2, 4, 2), (1, 4, 1), (2, 4, 3), (2, 4, 4), (1, 4, 4), (2, 4, 2), (1, 4, 0)]]\n"
          ]
        }
      ]
    },
    {
      "cell_type": "markdown",
      "metadata": {
        "id": "kYdlr0YUxE27"
      },
      "source": [
        "### Grouping and Aggregation (Группировка и аггрегация)\n",
        "\n",
        "**The Map Function:** Для каждого кортежа $(a, b, c$) создайте пару $(a, b)$.\n",
        "\n",
        "**The Reduce Function:** Ключ представляет ту или иную группу. Примение аггрегирующую операцию $\\theta$ к списку значений $[b1, b2, . . . , bn]$ ассоциированных с ключом $a$. Возвращайте в выходной поток $(a, x)$, где $x$ результат применения  $\\theta$ к списку. Например, если $\\theta$ это $SUM$, тогда $x = b1 + b2 + · · · + bn$, а если $\\theta$ is $MAX$, тогда $x$ это максимальное из значений $b1, b2, . . . , bn$."
      ]
    },
    {
      "cell_type": "code",
      "metadata": {
        "id": "MLPckfEGxico",
        "colab": {
          "base_uri": "https://localhost:8080/"
        },
        "outputId": "0db4bacf-a849-4b0d-e02e-48d59ec0ecea"
      },
      "source": [
        "def get_random_tuple():\n",
        "    return (random.randint(0, 3), random.randint(0, 3), random.randint(0, 3))\n",
        "\n",
        "def RECORDREADER(count):\n",
        "    return [get_random_tuple() for i in range(count)]\n",
        "\n",
        "def MAP(t):\n",
        "    return (t[0], t[1])\n",
        "\n",
        "def REDUCE(key, values):\n",
        "    return (key, max(values))\n",
        "\n",
        "def group_by_key(iterable):\n",
        "    t = {}\n",
        "    for (k2, v2) in iterable:\n",
        "        t[k2] = t.get(k2, []) + [v2]\n",
        "    return t.items()\n",
        "\n",
        "record = RECORDREADER(100)\n",
        "\n",
        "map_output = list(map(lambda x: MAP(x), RECORDREADER(100)))\n",
        "print(\"MAP output:\", map_output)\n",
        "\n",
        "shuffle_output = group_by_key(map_output)\n",
        "shuffle_output = list(shuffle_output)\n",
        "print(\"Shuffle output:\", shuffle_output)\n",
        "\n",
        "reduce_output = list(map(lambda x: REDUCE(*x), shuffle_output))\n",
        "print(\"Reduce output:\", reduce_output)"
      ],
      "execution_count": 33,
      "outputs": [
        {
          "output_type": "stream",
          "name": "stdout",
          "text": [
            "MAP output: [(0, 3), (2, 1), (3, 1), (1, 3), (1, 2), (1, 3), (0, 2), (1, 2), (1, 0), (1, 2), (2, 1), (3, 3), (1, 0), (3, 1), (1, 0), (2, 0), (0, 2), (3, 1), (2, 2), (1, 3), (1, 0), (3, 2), (2, 0), (0, 3), (1, 2), (1, 0), (0, 3), (1, 3), (0, 1), (0, 0), (2, 0), (1, 2), (2, 1), (2, 2), (3, 2), (3, 2), (2, 1), (2, 3), (3, 1), (0, 0), (3, 1), (0, 1), (3, 3), (1, 3), (2, 0), (2, 1), (0, 0), (2, 1), (0, 1), (1, 1), (1, 2), (3, 3), (3, 3), (2, 1), (0, 1), (2, 1), (3, 1), (2, 1), (3, 3), (1, 2), (0, 0), (0, 1), (2, 2), (3, 2), (1, 0), (0, 0), (3, 3), (1, 0), (1, 2), (3, 0), (0, 3), (0, 3), (2, 3), (1, 2), (0, 2), (0, 2), (1, 2), (1, 3), (3, 0), (1, 2), (0, 1), (0, 2), (3, 2), (0, 0), (3, 3), (3, 1), (2, 1), (2, 3), (0, 0), (2, 2), (1, 1), (2, 3), (1, 0), (2, 2), (1, 2), (1, 3), (1, 2), (0, 0), (1, 2), (3, 2)]\n",
            "Shuffle output: [(0, [3, 2, 2, 3, 3, 1, 0, 0, 1, 0, 1, 1, 0, 1, 0, 3, 3, 2, 2, 1, 2, 0, 0, 0]), (2, [1, 1, 0, 2, 0, 0, 1, 2, 1, 3, 0, 1, 1, 1, 1, 1, 2, 3, 1, 3, 2, 3, 2]), (3, [1, 3, 1, 1, 2, 2, 2, 1, 1, 3, 3, 3, 1, 3, 2, 3, 0, 0, 2, 3, 1, 2]), (1, [3, 2, 3, 2, 0, 2, 0, 0, 3, 0, 2, 0, 3, 2, 3, 1, 2, 2, 0, 0, 2, 2, 2, 3, 2, 1, 0, 2, 3, 2, 2])]\n",
            "Reduce output: [(0, 3), (2, 3), (3, 3), (1, 3)]\n"
          ]
        }
      ]
    },
    {
      "cell_type": "markdown",
      "metadata": {
        "id": "03IffTEOJgOb"
      },
      "source": [
        "#"
      ]
    },
    {
      "cell_type": "markdown",
      "metadata": {
        "id": "IIrRgvG4RIS4"
      },
      "source": [
        "### Matrix-Vector multiplication\n",
        "\n",
        "Случай, когда вектор не помещается в памяти Map задачи\n"
      ]
    },
    {
      "cell_type": "code",
      "metadata": {
        "id": "KQhDbiL3zS9r"
      },
      "source": [],
      "execution_count": null,
      "outputs": []
    },
    {
      "cell_type": "markdown",
      "metadata": {
        "id": "GIo2t7nNxvA9"
      },
      "source": [
        "## Matrix multiplication (Перемножение матриц)\n",
        "\n",
        "Если у нас есть матрица $M$ с элементами $m_{ij}$ в строке $i$ и столбце $j$, и матрица $N$ с элементами $n_{jk}$ в строке $j$ и столбце $k$, тогда их произведение $P = MN$ есть матрица $P$ с элементами $p_{ik}$ в строке $i$ и столбце $k$, где\n",
        "\n",
        "$$p_{ik} =\\sum_{j} m_{ij}n_{jk}$$\n",
        "\n",
        "Необходимым требованием является одинаковое количество столбцов в $M$ и строк в $N$, чтобы операция суммирования по  $j$ была осмысленной. Мы можем размышлять о матрице, как об отношении с тремя атрибутами: номер строки, номер столбца, само значение. Таким образом матрица $M$ предстваляется как отношение $ M(I, J, V )$, с кортежами $(i, j, m_{ij})$, и, аналогично, матрица $N$ представляется как отношение $N(J, K, W)$, с кортежами $(j, k, n_{jk})$. Так как большие матрицы как правило разреженные (большинство значений равно 0), и так как мы можем нулевыми значениями пренебречь (не хранить), такое реляционное представление достаточно эффективно для больших матриц. Однако, возможно, что координаты $i$, $j$, и $k$ неявно закодированы в смещение позиции элемента относительно начала файла, вместо явного хранения. Тогда, функция Map (или Reader) должна быть разработана таким образом, чтобы реконструировать компоненты $I$, $J$, и $K$ кортежей из смещения.\n",
        "\n",
        "Произведение $MN$ это фактически join, за которым следуют группировка по ключу и аггрегация. Таким образом join отношений $M(I, J, V )$ и $N(J, K, W)$, имеющих общим только атрибут $J$, создаст кортежи $(i, j, k, v, w)$ из каждого кортежа $(i, j, v) \\in M$ и кортежа $(j, k, w) \\in N$. Такой 5 компонентный кортеж представляет пару элементов матрицы $(m_{ij} , n_{jk})$. Что нам хотелось бы получить на самом деле, это произведение этих элементов, то есть, 4 компонентный кортеж$(i, j, k, v \\times w)$, так как он представляет произведение $m_{ij}n_{jk}$. Мы представляем отношение как результат одной MapReduce операции, в которой мы можем произвести группировку и аггрегацию, с $I$ и $K$  атрибутами, по которым идёт группировка, и суммой  $V \\times W$.\n",
        "\n",
        "\n",
        "\n"
      ]
    },
    {
      "cell_type": "code",
      "metadata": {
        "id": "1MBkGaLAYVCt"
      },
      "source": [
        "# MapReduce model\n",
        "def flatten(nested_iterable):\n",
        "  for iterable in nested_iterable:\n",
        "    for element in iterable:\n",
        "      yield element\n",
        "\n",
        "def groupbykey(iterable):\n",
        "  t = {}\n",
        "  for (k2, v2) in iterable:\n",
        "    t[k2] = t.get(k2, []) + [v2]\n",
        "  return t.items()\n",
        "\n",
        "def MapReduce(RECORDREADER, MAP, REDUCE):\n",
        "  return flatten(map(lambda x: REDUCE(*x), groupbykey(flatten(map(lambda x: MAP(*x), RECORDREADER())))))"
      ],
      "execution_count": 34,
      "outputs": []
    },
    {
      "cell_type": "markdown",
      "metadata": {
        "id": "sMspsOT0ZB35"
      },
      "source": [
        "Реализуйте перемножение матриц с использованием модельного кода MapReduce для одной машины в случае, когда одна матрица хранится в памяти, а другая генерируется RECORDREADER-ом."
      ]
    },
    {
      "cell_type": "code",
      "metadata": {
        "id": "psP1XekbsEjS"
      },
      "source": [
        "import numpy as np\n",
        "I = 2\n",
        "J = 3\n",
        "K = 4*10\n",
        "small_mat = np.random.rand(I,J) # it is legal to access this from RECORDREADER, MAP, REDUCE\n",
        "big_mat = np.random.rand(J,K)\n",
        "\n",
        "def RECORDREADER():\n",
        "  for j in range(big_mat.shape[0]):\n",
        "    for k in range(big_mat.shape[1]):\n",
        "      yield ((j,k), big_mat[j,k])\n",
        "\n",
        "def MAP(k1, v1):\n",
        "  (j, k) = k1\n",
        "  w = v1\n",
        "  for i in range(small_mat.shape[0]):\n",
        "    yield ((i, k), w * small_mat[i][j])\n",
        "\n",
        "def REDUCE(key, values):\n",
        "  (i, k) = key\n",
        "  el_value = 0\n",
        "  for v in values:\n",
        "    el_value += v\n",
        "  yield ((i, k), el_value)"
      ],
      "execution_count": 38,
      "outputs": []
    },
    {
      "cell_type": "markdown",
      "metadata": {
        "id": "rnt306LHhHrm"
      },
      "source": [
        "Проверьте своё решение"
      ]
    },
    {
      "cell_type": "code",
      "metadata": {
        "id": "Ewy_ZNYqW5a2",
        "colab": {
          "base_uri": "https://localhost:8080/"
        },
        "outputId": "066862c6-53af-45c4-e187-2a3477717042"
      },
      "source": [
        "# CHECK THE SOLUTION\n",
        "reference_solution = np.matmul(small_mat, big_mat)\n",
        "solution = MapReduce(RECORDREADER, MAP, REDUCE)\n",
        "\n",
        "def asmatrix(reduce_output):\n",
        "  reduce_output = list(reduce_output)\n",
        "  I = max(i for ((i,k), vw) in reduce_output)+1\n",
        "  K = max(k for ((i,k), vw) in reduce_output)+1\n",
        "  mat = np.empty(shape=(I,K))\n",
        "  for ((i,k), vw) in reduce_output:\n",
        "    mat[i,k] = vw\n",
        "  return mat\n",
        "\n",
        "np.allclose(reference_solution, asmatrix(solution)) # should return true"
      ],
      "execution_count": 39,
      "outputs": [
        {
          "output_type": "execute_result",
          "data": {
            "text/plain": [
              "True"
            ]
          },
          "metadata": {},
          "execution_count": 39
        }
      ]
    },
    {
      "cell_type": "code",
      "metadata": {
        "id": "TK7v4CEcfxqf",
        "colab": {
          "base_uri": "https://localhost:8080/"
        },
        "outputId": "79fcd6f0-f90e-4ada-fe6d-b9c2006a965d"
      },
      "source": [
        "reduce_output = list(MapReduce(RECORDREADER, MAP, REDUCE))\n",
        "max(i for ((i,k), vw) in reduce_output)"
      ],
      "execution_count": 40,
      "outputs": [
        {
          "output_type": "execute_result",
          "data": {
            "text/plain": [
              "1"
            ]
          },
          "metadata": {},
          "execution_count": 40
        }
      ]
    },
    {
      "cell_type": "markdown",
      "metadata": {
        "id": "i4yyg3kOZqJJ"
      },
      "source": [
        "Реализуйте перемножение матриц  с использованием модельного кода MapReduce для одной машины в случае, когда обе матрицы генерируются в RECORDREADER. Например, сначала одна, а потом другая."
      ]
    },
    {
      "cell_type": "code",
      "metadata": {
        "id": "3B7rIAJCaHZq",
        "colab": {
          "base_uri": "https://localhost:8080/"
        },
        "outputId": "3193be68-82bd-4be2-a85e-ad7df93b7b8b"
      },
      "source": [
        "import numpy as np\n",
        "I = 2\n",
        "J = 3\n",
        "K = 4*10\n",
        "small_mat = np.random.rand(I,J)\n",
        "big_mat = np.random.rand(J,K)\n",
        "reference_solution = np.matmul(small_mat, big_mat)\n",
        "\n",
        "def RECORDREADER():\n",
        "  for i in range(small_mat.shape[0]):\n",
        "    for j in range(small_mat.shape[1]):\n",
        "      yield ((0, i, j), small_mat[i,j])\n",
        "\n",
        "  for j in range(big_mat.shape[0]):\n",
        "    for k in range(big_mat.shape[1]):\n",
        "      yield ((1, j, k), big_mat[j,k])\n",
        "\n",
        "def MAP_JOIN(k1, v1):\n",
        "  (mat_num, i, j) = k1\n",
        "  w = v1\n",
        "  if mat_num == 0:\n",
        "    yield (j, (mat_num, i, w))\n",
        "  else:\n",
        "    yield (i, (mat_num, j, w))\n",
        "\n",
        "def REDUCE_JOIN(key, values):\n",
        "  from_first_mat = [v for v in values if v[0] == 0]\n",
        "  from_second_mat = [v for v in values if v[0] == 1]\n",
        "  for f in from_first_mat:\n",
        "    for s in from_second_mat:\n",
        "      yield ((f[1], s[1]), f[2] * s[2])\n",
        "\n",
        "\n",
        "def MAP_MUL(k1, v1):\n",
        "  (i, k) = k1\n",
        "  yield ((i, k), v1)\n",
        "\n",
        "def REDUCE_MUL(key, values):\n",
        "  res_el_value = 0\n",
        "  for v in values:\n",
        "    res_el_value += v\n",
        "  yield (key, res_el_value)\n",
        "\n",
        "def GET_JOINED():\n",
        "  for j in joined:\n",
        "    yield j\n",
        "\n",
        "\n",
        "joined = MapReduce(RECORDREADER, MAP_JOIN, REDUCE_JOIN)\n",
        "solution = MapReduce(GET_JOINED, MAP_MUL, REDUCE_MUL)\n",
        "np.allclose(reference_solution, asmatrix(solution))"
      ],
      "execution_count": 42,
      "outputs": [
        {
          "output_type": "execute_result",
          "data": {
            "text/plain": [
              "True"
            ]
          },
          "metadata": {},
          "execution_count": 42
        }
      ]
    },
    {
      "cell_type": "markdown",
      "metadata": {
        "id": "mXyzQi1DaIwo"
      },
      "source": [
        "Реализуйте перемножение матриц с использованием модельного кода MapReduce Distributed, когда каждая матрица генерируется в своём RECORDREADER."
      ]
    },
    {
      "cell_type": "code",
      "metadata": {
        "id": "TDM_s78Rb5eR",
        "colab": {
          "base_uri": "https://localhost:8080/"
        },
        "outputId": "cc620c62-6e02-48f6-fdae-33b6e7e22b7a"
      },
      "source": [
        "I = 2\n",
        "J = 3\n",
        "K = 4*10\n",
        "\n",
        "small_mat = np.random.rand(I, J)\n",
        "big_mat = np.random.rand(J, K)\n",
        "\n",
        "reference_solution = np.matmul(small_mat, big_mat)\n",
        "\n",
        "def flatten(nested_iterable):\n",
        "  for iterable in nested_iterable:\n",
        "    for element in iterable:\n",
        "      yield element\n",
        "\n",
        "def groupbykey(iterable):\n",
        "  t = {}\n",
        "  for (k2, v2) in iterable:\n",
        "    t[k2] = t.get(k2, []) + [v2]\n",
        "  return t.items()\n",
        "\n",
        "def groupbykey_distributed(map_partitions, PARTITIONER):\n",
        "  global reducers\n",
        "  partitions = [dict() for _ in range(reducers)]\n",
        "  for map_partition in map_partitions:\n",
        "    for (k2, v2) in map_partition:\n",
        "      p = partitions[PARTITIONER(k2)]\n",
        "      p[k2] = p.get(k2, []) + [v2]\n",
        "  return [(partition_id, sorted(partition.items(), key=lambda x: x[0])) for (partition_id, partition) in enumerate(partitions)]\n",
        "\n",
        "def PARTITIONER(obj):\n",
        "  global reducers\n",
        "  return hash(obj) % reducers\n",
        "\n",
        "def MapReduceDistributed(INPUTFORMAT, MAP, REDUCE, PARTITIONER=PARTITIONER, COMBINER=None):\n",
        "  map_partitions = map(lambda record_reader: flatten(map(lambda k1v1: MAP(*k1v1), record_reader)), INPUTFORMAT())\n",
        "\n",
        "  if COMBINER != None:\n",
        "    map_partitions = map(lambda map_partition: flatten(map(lambda k2v2: COMBINER(*k2v2), groupbykey(map_partition))), map_partitions)\n",
        "\n",
        "  reduce_partitions = groupbykey_distributed(map_partitions, PARTITIONER)\n",
        "\n",
        "  reduce_outputs = map(lambda reduce_partition: (reduce_partition[0], flatten(map(lambda reduce_input_group: REDUCE(*reduce_input_group), reduce_partition[1]))), reduce_partitions)\n",
        "\n",
        "  print(\"{} key-value pairs were sent over a network.\".format(sum([len(vs) for (k,vs) in flatten([partition for (partition_id, partition) in reduce_partitions])])))\n",
        "  return reduce_outputs\n",
        "\n",
        "def asmatrix(reduce_output):\n",
        "  reduce_output = list(reduce_output)\n",
        "  I = max(i for ((i,k), vw) in reduce_output) + 1\n",
        "  K = max(k for ((i,k), vw) in reduce_output) + 1\n",
        "  mat = np.empty(shape=(I,K))\n",
        "  for ((i,k), vw) in reduce_output:\n",
        "    mat[i,k] = vw\n",
        "  return mat\n",
        "\n",
        "def INPUTFORMAT():\n",
        "  first_mat = []\n",
        "  for i in range(small_mat.shape[0]):\n",
        "    for j in range(small_mat.shape[1]):\n",
        "      first_mat.append(((0, i, j), small_mat[i,j]))\n",
        "  yield first_mat\n",
        "\n",
        "  second_mat = []\n",
        "  for j in range(big_mat.shape[0]):\n",
        "    for k in range(big_mat.shape[1]):\n",
        "      second_mat.append(((1, j, k), big_mat[j,k]))\n",
        "  yield second_mat\n",
        "\n",
        "def MAP_JOIN(k1, v1):\n",
        "  (mat_num, i, j) = k1\n",
        "  w = v1\n",
        "  if mat_num == 0:\n",
        "    yield (j, (mat_num, i, w))\n",
        "  else:\n",
        "    yield (i, (mat_num, j, w))\n",
        "\n",
        "def REDUCE_JOIN(key, values):\n",
        "  from_first_mat = [v for v in values if v[0] == 0]\n",
        "  from_second_mat = [v for v in values if v[0] == 1]\n",
        "  for f in from_first_mat:\n",
        "    for s in from_second_mat:\n",
        "      yield ((f[1], s[1]), f[2] * s[2])\n",
        "\n",
        "def GET_JOINED():\n",
        "  for j in joined:\n",
        "    print(\"aa\", j)\n",
        "    yield j[1]\n",
        "\n",
        "def MAP_MUL(k1, v1):\n",
        "  yield (k1, v1)\n",
        "\n",
        "def REDUCE_MUL(key, values):\n",
        "  res_val = 0\n",
        "  for v in values:\n",
        "    res_val += v\n",
        "  yield (key, res_val)\n",
        "\n",
        "maps = 4\n",
        "reducers = 2\n",
        "\n",
        "partitioned_output = MapReduceDistributed(INPUTFORMAT, MAP_JOIN, REDUCE_JOIN, COMBINER=None)\n",
        "joined = [(partition_id, list(partition)) for (partition_id, partition) in partitioned_output]\n",
        "print(joined)\n",
        "\n",
        "mul_output = MapReduceDistributed(GET_JOINED, MAP_MUL, REDUCE_MUL, COMBINER=None)\n",
        "pre_result = [(partition_id, list(partition)) for (partition_id, partition) in mul_output]\n",
        "print(pre_result)\n",
        "\n",
        "solution = []\n",
        "for p in pre_result:\n",
        "  for v in p[1]:\n",
        "    solution.append(v)\n",
        "\n",
        "print(solution)\n",
        "\n",
        "np.allclose(reference_solution, asmatrix(solution))"
      ],
      "execution_count": 43,
      "outputs": [
        {
          "output_type": "stream",
          "name": "stdout",
          "text": [
            "126 key-value pairs were sent over a network.\n",
            "[(0, [((0, 0), 0.022497384233530725), ((0, 1), 0.0873459877131581), ((0, 2), 0.10457130977895128), ((0, 3), 0.07195234429218929), ((0, 4), 0.06426871423075577), ((0, 5), 0.16267006242283819), ((0, 6), 0.12542775034607853), ((0, 7), 0.03025399974428621), ((0, 8), 0.07043695757277932), ((0, 9), 0.015327410174732194), ((0, 10), 0.12276311143481825), ((0, 11), 0.1121934320757178), ((0, 12), 0.03952486400747672), ((0, 13), 0.052772373028530335), ((0, 14), 0.006571027700353911), ((0, 15), 0.17047809410031428), ((0, 16), 0.09966766630036666), ((0, 17), 0.1645381965477087), ((0, 18), 0.07976428030202641), ((0, 19), 0.1541710318926218), ((0, 20), 0.018808708003976052), ((0, 21), 0.16968910565971196), ((0, 22), 0.12654204642629974), ((0, 23), 0.0382244195393445), ((0, 24), 0.15804813969674278), ((0, 25), 0.12065854696831398), ((0, 26), 0.04919942900124078), ((0, 27), 0.15149008641710815), ((0, 28), 0.07311773238255924), ((0, 29), 0.14855178354736323), ((0, 30), 0.09000118737142261), ((0, 31), 0.11109446933723983), ((0, 32), 0.1576015758132327), ((0, 33), 0.1051502935076999), ((0, 34), 0.14307284554026206), ((0, 35), 0.07251405893095733), ((0, 36), 0.0882311267464735), ((0, 37), 0.007153988976461239), ((0, 38), 0.02283108928882723), ((0, 39), 0.024977626427673358), ((1, 0), 0.05752355126550246), ((1, 1), 0.22333491529051705), ((1, 2), 0.26737833325551036), ((1, 3), 0.18397491559912205), ((1, 4), 0.1643286454747369), ((1, 5), 0.4159310068232799), ((1, 6), 0.3207061564248782), ((1, 7), 0.077356437851256), ((1, 8), 0.18010022400225983), ((1, 9), 0.039190647934949724), ((1, 10), 0.3138929424340942), ((1, 11), 0.286867334205074), ((1, 12), 0.10106110636664364), ((1, 13), 0.13493365601074905), ((1, 14), 0.0168014576656863), ((1, 15), 0.4358953593817673), ((1, 16), 0.2548402095296553), ((1, 17), 0.42070763809682415), ((1, 18), 0.2039492511432044), ((1, 19), 0.3941998396201474), ((1, 20), 0.048091976732656055), ((1, 21), 0.4338779952055697), ((1, 22), 0.323555299553261), ((1, 23), 0.097736000511935), ((1, 24), 0.4041132147582148), ((1, 25), 0.3085117825301762), ((1, 26), 0.12579799709195635), ((1, 27), 0.387344931382821), ((1, 28), 0.18695469586445118), ((1, 29), 0.37983198614408387), ((1, 30), 0.23012399405971368), ((1, 31), 0.2840573968910508), ((1, 32), 0.4029713957725157), ((1, 33), 0.2688587364818074), ((1, 34), 0.36582289210628643), ((1, 35), 0.18541116349729317), ((1, 36), 0.22559812687242745), ((1, 37), 0.018292031080971737), ((1, 38), 0.058376801565921635), ((1, 39), 0.06386528137619608), ((0, 0), 0.3145426876672026), ((0, 1), 0.16473118103677153), ((0, 2), 0.20397803799931177), ((0, 3), 0.29380032562103964), ((0, 4), 0.025060661966537532), ((0, 5), 0.22144225651573973), ((0, 6), 0.30491143770806184), ((0, 7), 0.38205104140734897), ((0, 8), 0.09579693990791045), ((0, 9), 0.02968209541259163), ((0, 10), 0.31867627589857145), ((0, 11), 0.23322707879694587), ((0, 12), 0.30145288438359824), ((0, 13), 0.3158652870349386), ((0, 14), 0.13714758927569853), ((0, 15), 0.170459126487976), ((0, 16), 0.29654512468753125), ((0, 17), 0.27113022595917435), ((0, 18), 0.17302325936646093), ((0, 19), 0.07729826336018711), ((0, 20), 0.19941727306326706), ((0, 21), 0.40925898447947373), ((0, 22), 0.0380286822294456), ((0, 23), 0.2652876005027862), ((0, 24), 0.19241406189069693), ((0, 25), 0.1874422204289181), ((0, 26), 0.06684798871141201), ((0, 27), 0.38917116465021573), ((0, 28), 0.08674669955246983), ((0, 29), 0.018082028317055646), ((0, 30), 0.4017069115549601), ((0, 31), 0.04254870872009541), ((0, 32), 0.36166421482253447), ((0, 33), 0.2169587721851921), ((0, 34), 0.3392599101835336), ((0, 35), 0.27192275427918045), ((0, 36), 0.21715234723304502), ((0, 37), 0.10836209058787029), ((0, 38), 0.31069673047011503), ((0, 39), 0.22919585037537865), ((1, 0), 0.3721007989409849), ((1, 1), 0.19487531097568767), ((1, 2), 0.24130394341344158), ((1, 3), 0.3475627957003355), ((1, 4), 0.029646508106412728), ((1, 5), 0.2619639362145407), ((1, 6), 0.3607071282402742), ((1, 7), 0.45196249449715964), ((1, 8), 0.11332680514750947), ((1, 9), 0.03511361684857735), ((1, 10), 0.3769907917581531), ((1, 11), 0.27590526105898905), ((1, 12), 0.3566156948492855), ((1, 13), 0.37366542053515817), ((1, 14), 0.16224420259393194), ((1, 15), 0.20165141216084265), ((1, 16), 0.350809865066814), ((1, 17), 0.32074429847563773), ((1, 18), 0.20468475526524374), ((1, 19), 0.0914430590213189), ((1, 20), 0.23590860490129717), ((1, 21), 0.4841492143022314), ((1, 22), 0.04498754412380834), ((1, 23), 0.3138325320112551), ((1, 24), 0.2276238773439905), ((1, 25), 0.22174223948473365), ((1, 26), 0.07908049044660079), ((1, 27), 0.46038552784401066), ((1, 28), 0.10262046289602327), ((1, 29), 0.02139085550883554), ((1, 30), 0.4752151888772139), ((1, 31), 0.05033468946957688), ((1, 32), 0.4278450860896019), ((1, 33), 0.25666001987234527), ((1, 34), 0.40134102167240604), ((1, 35), 0.32168185141398375), ((1, 36), 0.25688901718426915), ((1, 37), 0.12819125054760017), ((1, 38), 0.3675510707106366), ((1, 39), 0.27113635885527343)]), (1, [((0, 0), 0.33669632370545854), ((0, 1), 0.04151187455072037), ((0, 2), 0.05979657609845572), ((0, 3), 0.030333914570441156), ((0, 4), 0.3463324548692278), ((0, 5), 0.29274441471212004), ((0, 6), 0.27582034950729906), ((0, 7), 0.322256142507057), ((0, 8), 0.1345164328475373), ((0, 9), 0.3283555067946712), ((0, 10), 0.30103448107676467), ((0, 11), 0.32289195533026605), ((0, 12), 0.11433875035959973), ((0, 13), 0.31367937642963034), ((0, 14), 0.2798169506919693), ((0, 15), 0.015542414105676743), ((0, 16), 0.08446269417828696), ((0, 17), 0.12470815807989884), ((0, 18), 0.017178840198262935), ((0, 19), 0.09119539983733238), ((0, 20), 0.1920379607467183), ((0, 21), 0.19923753397071095), ((0, 22), 0.019921736936613327), ((0, 23), 0.0243711356472027), ((0, 24), 0.3102140557905283), ((0, 25), 0.08212252386035611), ((0, 26), 0.3046498264298383), ((0, 27), 0.2959438555952232), ((0, 28), 0.167730794526977), ((0, 29), 0.3616390480738832), ((0, 30), 0.02463040349520785), ((0, 31), 0.3254785459163845), ((0, 32), 0.3054539298184588), ((0, 33), 0.004104897256131743), ((0, 34), 0.1964339146103151), ((0, 35), 0.052627349562881086), ((0, 36), 0.10905400259277682), ((0, 37), 0.06524509558245542), ((0, 38), 0.3751153722169248), ((0, 39), 0.04254608124124163), ((1, 0), 0.5644548790057387), ((1, 1), 0.06959262242294685), ((1, 2), 0.10024602809782347), ((1, 3), 0.050853320553648766), ((1, 4), 0.5806093804575779), ((1, 5), 0.49077165847075915), ((1, 6), 0.46239929291493775), ((1, 7), 0.540246623205788), ((1, 8), 0.22551020454165202), ((1, 9), 0.550471908391821), ((1, 10), 0.5046695482822872), ((1, 11), 0.5413125322310042), ((1, 12), 0.19168330913037795), ((1, 13), 0.5258680953822129), ((1, 14), 0.4690993988540234), ((1, 15), 0.02605609522826703), ((1, 16), 0.14159756571803267), ((1, 17), 0.20906711277785367), ((1, 18), 0.028799483341113236), ((1, 19), 0.15288461666154768), ((1, 20), 0.32194222587539445), ((1, 21), 0.3340119574017676), ((1, 22), 0.03339781524308317), ((1, 23), 0.04085701403442803), ((1, 24), 0.5200586552299303), ((1, 25), 0.13767438491485878), ((1, 26), 0.5107304975120696), ((1, 27), 0.49613536424777216), ((1, 28), 0.28119245344978594), ((1, 29), 0.6062701335072073), ((1, 30), 0.0412916638701175), ((1, 31), 0.5456488245322), ((1, 32), 0.5120785374191786), ((1, 33), 0.00688165899330628), ((1, 34), 0.32931182700107225), ((1, 35), 0.0882271713067331), ((1, 36), 0.18282368860209625), ((1, 37), 0.10938020388048468), ((1, 38), 0.6288625302102288), ((1, 39), 0.07132641923409284)])]\n",
            "aa (0, [((0, 0), 0.022497384233530725), ((0, 1), 0.0873459877131581), ((0, 2), 0.10457130977895128), ((0, 3), 0.07195234429218929), ((0, 4), 0.06426871423075577), ((0, 5), 0.16267006242283819), ((0, 6), 0.12542775034607853), ((0, 7), 0.03025399974428621), ((0, 8), 0.07043695757277932), ((0, 9), 0.015327410174732194), ((0, 10), 0.12276311143481825), ((0, 11), 0.1121934320757178), ((0, 12), 0.03952486400747672), ((0, 13), 0.052772373028530335), ((0, 14), 0.006571027700353911), ((0, 15), 0.17047809410031428), ((0, 16), 0.09966766630036666), ((0, 17), 0.1645381965477087), ((0, 18), 0.07976428030202641), ((0, 19), 0.1541710318926218), ((0, 20), 0.018808708003976052), ((0, 21), 0.16968910565971196), ((0, 22), 0.12654204642629974), ((0, 23), 0.0382244195393445), ((0, 24), 0.15804813969674278), ((0, 25), 0.12065854696831398), ((0, 26), 0.04919942900124078), ((0, 27), 0.15149008641710815), ((0, 28), 0.07311773238255924), ((0, 29), 0.14855178354736323), ((0, 30), 0.09000118737142261), ((0, 31), 0.11109446933723983), ((0, 32), 0.1576015758132327), ((0, 33), 0.1051502935076999), ((0, 34), 0.14307284554026206), ((0, 35), 0.07251405893095733), ((0, 36), 0.0882311267464735), ((0, 37), 0.007153988976461239), ((0, 38), 0.02283108928882723), ((0, 39), 0.024977626427673358), ((1, 0), 0.05752355126550246), ((1, 1), 0.22333491529051705), ((1, 2), 0.26737833325551036), ((1, 3), 0.18397491559912205), ((1, 4), 0.1643286454747369), ((1, 5), 0.4159310068232799), ((1, 6), 0.3207061564248782), ((1, 7), 0.077356437851256), ((1, 8), 0.18010022400225983), ((1, 9), 0.039190647934949724), ((1, 10), 0.3138929424340942), ((1, 11), 0.286867334205074), ((1, 12), 0.10106110636664364), ((1, 13), 0.13493365601074905), ((1, 14), 0.0168014576656863), ((1, 15), 0.4358953593817673), ((1, 16), 0.2548402095296553), ((1, 17), 0.42070763809682415), ((1, 18), 0.2039492511432044), ((1, 19), 0.3941998396201474), ((1, 20), 0.048091976732656055), ((1, 21), 0.4338779952055697), ((1, 22), 0.323555299553261), ((1, 23), 0.097736000511935), ((1, 24), 0.4041132147582148), ((1, 25), 0.3085117825301762), ((1, 26), 0.12579799709195635), ((1, 27), 0.387344931382821), ((1, 28), 0.18695469586445118), ((1, 29), 0.37983198614408387), ((1, 30), 0.23012399405971368), ((1, 31), 0.2840573968910508), ((1, 32), 0.4029713957725157), ((1, 33), 0.2688587364818074), ((1, 34), 0.36582289210628643), ((1, 35), 0.18541116349729317), ((1, 36), 0.22559812687242745), ((1, 37), 0.018292031080971737), ((1, 38), 0.058376801565921635), ((1, 39), 0.06386528137619608), ((0, 0), 0.3145426876672026), ((0, 1), 0.16473118103677153), ((0, 2), 0.20397803799931177), ((0, 3), 0.29380032562103964), ((0, 4), 0.025060661966537532), ((0, 5), 0.22144225651573973), ((0, 6), 0.30491143770806184), ((0, 7), 0.38205104140734897), ((0, 8), 0.09579693990791045), ((0, 9), 0.02968209541259163), ((0, 10), 0.31867627589857145), ((0, 11), 0.23322707879694587), ((0, 12), 0.30145288438359824), ((0, 13), 0.3158652870349386), ((0, 14), 0.13714758927569853), ((0, 15), 0.170459126487976), ((0, 16), 0.29654512468753125), ((0, 17), 0.27113022595917435), ((0, 18), 0.17302325936646093), ((0, 19), 0.07729826336018711), ((0, 20), 0.19941727306326706), ((0, 21), 0.40925898447947373), ((0, 22), 0.0380286822294456), ((0, 23), 0.2652876005027862), ((0, 24), 0.19241406189069693), ((0, 25), 0.1874422204289181), ((0, 26), 0.06684798871141201), ((0, 27), 0.38917116465021573), ((0, 28), 0.08674669955246983), ((0, 29), 0.018082028317055646), ((0, 30), 0.4017069115549601), ((0, 31), 0.04254870872009541), ((0, 32), 0.36166421482253447), ((0, 33), 0.2169587721851921), ((0, 34), 0.3392599101835336), ((0, 35), 0.27192275427918045), ((0, 36), 0.21715234723304502), ((0, 37), 0.10836209058787029), ((0, 38), 0.31069673047011503), ((0, 39), 0.22919585037537865), ((1, 0), 0.3721007989409849), ((1, 1), 0.19487531097568767), ((1, 2), 0.24130394341344158), ((1, 3), 0.3475627957003355), ((1, 4), 0.029646508106412728), ((1, 5), 0.2619639362145407), ((1, 6), 0.3607071282402742), ((1, 7), 0.45196249449715964), ((1, 8), 0.11332680514750947), ((1, 9), 0.03511361684857735), ((1, 10), 0.3769907917581531), ((1, 11), 0.27590526105898905), ((1, 12), 0.3566156948492855), ((1, 13), 0.37366542053515817), ((1, 14), 0.16224420259393194), ((1, 15), 0.20165141216084265), ((1, 16), 0.350809865066814), ((1, 17), 0.32074429847563773), ((1, 18), 0.20468475526524374), ((1, 19), 0.0914430590213189), ((1, 20), 0.23590860490129717), ((1, 21), 0.4841492143022314), ((1, 22), 0.04498754412380834), ((1, 23), 0.3138325320112551), ((1, 24), 0.2276238773439905), ((1, 25), 0.22174223948473365), ((1, 26), 0.07908049044660079), ((1, 27), 0.46038552784401066), ((1, 28), 0.10262046289602327), ((1, 29), 0.02139085550883554), ((1, 30), 0.4752151888772139), ((1, 31), 0.05033468946957688), ((1, 32), 0.4278450860896019), ((1, 33), 0.25666001987234527), ((1, 34), 0.40134102167240604), ((1, 35), 0.32168185141398375), ((1, 36), 0.25688901718426915), ((1, 37), 0.12819125054760017), ((1, 38), 0.3675510707106366), ((1, 39), 0.27113635885527343)])\n",
            "aa (1, [((0, 0), 0.33669632370545854), ((0, 1), 0.04151187455072037), ((0, 2), 0.05979657609845572), ((0, 3), 0.030333914570441156), ((0, 4), 0.3463324548692278), ((0, 5), 0.29274441471212004), ((0, 6), 0.27582034950729906), ((0, 7), 0.322256142507057), ((0, 8), 0.1345164328475373), ((0, 9), 0.3283555067946712), ((0, 10), 0.30103448107676467), ((0, 11), 0.32289195533026605), ((0, 12), 0.11433875035959973), ((0, 13), 0.31367937642963034), ((0, 14), 0.2798169506919693), ((0, 15), 0.015542414105676743), ((0, 16), 0.08446269417828696), ((0, 17), 0.12470815807989884), ((0, 18), 0.017178840198262935), ((0, 19), 0.09119539983733238), ((0, 20), 0.1920379607467183), ((0, 21), 0.19923753397071095), ((0, 22), 0.019921736936613327), ((0, 23), 0.0243711356472027), ((0, 24), 0.3102140557905283), ((0, 25), 0.08212252386035611), ((0, 26), 0.3046498264298383), ((0, 27), 0.2959438555952232), ((0, 28), 0.167730794526977), ((0, 29), 0.3616390480738832), ((0, 30), 0.02463040349520785), ((0, 31), 0.3254785459163845), ((0, 32), 0.3054539298184588), ((0, 33), 0.004104897256131743), ((0, 34), 0.1964339146103151), ((0, 35), 0.052627349562881086), ((0, 36), 0.10905400259277682), ((0, 37), 0.06524509558245542), ((0, 38), 0.3751153722169248), ((0, 39), 0.04254608124124163), ((1, 0), 0.5644548790057387), ((1, 1), 0.06959262242294685), ((1, 2), 0.10024602809782347), ((1, 3), 0.050853320553648766), ((1, 4), 0.5806093804575779), ((1, 5), 0.49077165847075915), ((1, 6), 0.46239929291493775), ((1, 7), 0.540246623205788), ((1, 8), 0.22551020454165202), ((1, 9), 0.550471908391821), ((1, 10), 0.5046695482822872), ((1, 11), 0.5413125322310042), ((1, 12), 0.19168330913037795), ((1, 13), 0.5258680953822129), ((1, 14), 0.4690993988540234), ((1, 15), 0.02605609522826703), ((1, 16), 0.14159756571803267), ((1, 17), 0.20906711277785367), ((1, 18), 0.028799483341113236), ((1, 19), 0.15288461666154768), ((1, 20), 0.32194222587539445), ((1, 21), 0.3340119574017676), ((1, 22), 0.03339781524308317), ((1, 23), 0.04085701403442803), ((1, 24), 0.5200586552299303), ((1, 25), 0.13767438491485878), ((1, 26), 0.5107304975120696), ((1, 27), 0.49613536424777216), ((1, 28), 0.28119245344978594), ((1, 29), 0.6062701335072073), ((1, 30), 0.0412916638701175), ((1, 31), 0.5456488245322), ((1, 32), 0.5120785374191786), ((1, 33), 0.00688165899330628), ((1, 34), 0.32931182700107225), ((1, 35), 0.0882271713067331), ((1, 36), 0.18282368860209625), ((1, 37), 0.10938020388048468), ((1, 38), 0.6288625302102288), ((1, 39), 0.07132641923409284)])\n",
            "240 key-value pairs were sent over a network.\n",
            "[(0, [((0, 1), 0.29358904330065), ((0, 2), 0.3683459238767188), ((0, 4), 0.4356618310665211), ((0, 5), 0.6768567336506979), ((0, 8), 0.30075033032822707), ((0, 9), 0.373365012381995), ((0, 11), 0.6683124662029297), ((0, 12), 0.4553164987506747), ((0, 15), 0.35647963469396704), ((0, 16), 0.48067548516618486), ((0, 18), 0.26996637986675026), ((0, 19), 0.3226646950901413), ((0, 22), 0.18449246559235868), ((0, 23), 0.32788315568933346), ((0, 25), 0.3902232912575882), ((0, 26), 0.4206972441424911), ((0, 29), 0.5282728599383021), ((0, 32), 0.824719720454226), ((0, 33), 0.3262139629490237), ((0, 36), 0.41443747657229535), ((0, 39), 0.2967195580442937), ((1, 0), 0.994079229212226), ((1, 1), 0.4878028486891516), ((1, 3), 0.5823910318531063), ((1, 4), 0.7745845340387276), ((1, 7), 1.0695655555542036), ((1, 10), 1.1955532824745345), ((1, 11), 1.1040851274950672), ((1, 14), 0.6481450591136416), ((1, 17), 0.9505190493503155), ((1, 18), 0.4374334897495614), ((1, 21), 1.2520391669095687), ((1, 24), 1.1517957473321356), ((1, 25), 0.6679284069297686), ((1, 27), 1.3438658234746037), ((1, 28), 0.5707676122102604), ((1, 31), 0.8800409108928277), ((1, 32), 1.342895019281296), ((1, 34), 1.0964757407797647), ((1, 35), 0.59532018621801), ((1, 38), 1.054790402486787), ((1, 39), 0.40632805946556233)]), (1, [((0, 0), 0.6737363956061919), ((0, 3), 0.39608658448367007), ((0, 6), 0.7061595375614395), ((0, 7), 0.7345611836586922), ((0, 10), 0.7424738684101544), ((0, 13), 0.6823170364930993), ((0, 14), 0.4235355676680218), ((0, 17), 0.560376580586782), ((0, 20), 0.4102639418139614), ((0, 21), 0.7781856241098967), ((0, 24), 0.660676257377968), ((0, 27), 0.8366051066625471), ((0, 28), 0.3275952264620061), ((0, 30), 0.5163385024215905), ((0, 31), 0.4791217239737197), ((0, 34), 0.6787666703341108), ((0, 35), 0.3970641627730188), ((0, 37), 0.18076117514678697), ((0, 38), 0.7086431919758671), ((1, 2), 0.6089283047667754), ((1, 5), 1.1686666015085798), ((1, 6), 1.14381257758009), ((1, 8), 0.5189372336914213), ((1, 9), 0.6247761731753481), ((1, 12), 0.6493601103463071), ((1, 13), 1.03446717192812), ((1, 15), 0.663602866770877), ((1, 16), 0.7472476403145019), ((1, 19), 0.6385275153030139), ((1, 20), 0.6059428075093477), ((1, 22), 0.4019406589201525), ((1, 23), 0.45242554655761813), ((1, 26), 0.7156089850506266), ((1, 29), 1.0074929751601267), ((1, 30), 0.7466308468070451), ((1, 33), 0.532400415347459), ((1, 36), 0.6653108326587929), ((1, 37), 0.2558634855090566)])]\n",
            "[((0, 1), 0.29358904330065), ((0, 2), 0.3683459238767188), ((0, 4), 0.4356618310665211), ((0, 5), 0.6768567336506979), ((0, 8), 0.30075033032822707), ((0, 9), 0.373365012381995), ((0, 11), 0.6683124662029297), ((0, 12), 0.4553164987506747), ((0, 15), 0.35647963469396704), ((0, 16), 0.48067548516618486), ((0, 18), 0.26996637986675026), ((0, 19), 0.3226646950901413), ((0, 22), 0.18449246559235868), ((0, 23), 0.32788315568933346), ((0, 25), 0.3902232912575882), ((0, 26), 0.4206972441424911), ((0, 29), 0.5282728599383021), ((0, 32), 0.824719720454226), ((0, 33), 0.3262139629490237), ((0, 36), 0.41443747657229535), ((0, 39), 0.2967195580442937), ((1, 0), 0.994079229212226), ((1, 1), 0.4878028486891516), ((1, 3), 0.5823910318531063), ((1, 4), 0.7745845340387276), ((1, 7), 1.0695655555542036), ((1, 10), 1.1955532824745345), ((1, 11), 1.1040851274950672), ((1, 14), 0.6481450591136416), ((1, 17), 0.9505190493503155), ((1, 18), 0.4374334897495614), ((1, 21), 1.2520391669095687), ((1, 24), 1.1517957473321356), ((1, 25), 0.6679284069297686), ((1, 27), 1.3438658234746037), ((1, 28), 0.5707676122102604), ((1, 31), 0.8800409108928277), ((1, 32), 1.342895019281296), ((1, 34), 1.0964757407797647), ((1, 35), 0.59532018621801), ((1, 38), 1.054790402486787), ((1, 39), 0.40632805946556233), ((0, 0), 0.6737363956061919), ((0, 3), 0.39608658448367007), ((0, 6), 0.7061595375614395), ((0, 7), 0.7345611836586922), ((0, 10), 0.7424738684101544), ((0, 13), 0.6823170364930993), ((0, 14), 0.4235355676680218), ((0, 17), 0.560376580586782), ((0, 20), 0.4102639418139614), ((0, 21), 0.7781856241098967), ((0, 24), 0.660676257377968), ((0, 27), 0.8366051066625471), ((0, 28), 0.3275952264620061), ((0, 30), 0.5163385024215905), ((0, 31), 0.4791217239737197), ((0, 34), 0.6787666703341108), ((0, 35), 0.3970641627730188), ((0, 37), 0.18076117514678697), ((0, 38), 0.7086431919758671), ((1, 2), 0.6089283047667754), ((1, 5), 1.1686666015085798), ((1, 6), 1.14381257758009), ((1, 8), 0.5189372336914213), ((1, 9), 0.6247761731753481), ((1, 12), 0.6493601103463071), ((1, 13), 1.03446717192812), ((1, 15), 0.663602866770877), ((1, 16), 0.7472476403145019), ((1, 19), 0.6385275153030139), ((1, 20), 0.6059428075093477), ((1, 22), 0.4019406589201525), ((1, 23), 0.45242554655761813), ((1, 26), 0.7156089850506266), ((1, 29), 1.0074929751601267), ((1, 30), 0.7466308468070451), ((1, 33), 0.532400415347459), ((1, 36), 0.6653108326587929), ((1, 37), 0.2558634855090566)]\n"
          ]
        },
        {
          "output_type": "execute_result",
          "data": {
            "text/plain": [
              "True"
            ]
          },
          "metadata": {},
          "execution_count": 43
        }
      ]
    },
    {
      "cell_type": "markdown",
      "metadata": {
        "id": "ZuSA2P9Db6UM"
      },
      "source": [
        "Обобщите предыдущее решение на случай, когда каждая матрица генерируется несколькими RECORDREADER-ами, и проверьте его работоспособность. Будет ли работать решение, если RECORDREADER-ы будут генерировать случайное подмножество элементов матрицы?"
      ]
    },
    {
      "cell_type": "code",
      "metadata": {
        "id": "ehN0FqRDcwU5",
        "colab": {
          "base_uri": "https://localhost:8080/"
        },
        "outputId": "fb85b025-549e-4820-857b-a1c59460f5fa"
      },
      "source": [
        "I = 2\n",
        "J = 3\n",
        "K = 4*10\n",
        "\n",
        "small_mat = np.random.rand(I, J)\n",
        "big_mat = np.random.rand(J, K)\n",
        "\n",
        "reference_solution = np.matmul(small_mat, big_mat)\n",
        "\n",
        "def flatten(nested_iterable):\n",
        "  for iterable in nested_iterable:\n",
        "    for element in iterable:\n",
        "      yield element\n",
        "\n",
        "def groupbykey(iterable):\n",
        "  t = {}\n",
        "  for (k2, v2) in iterable:\n",
        "    t[k2] = t.get(k2, []) + [v2]\n",
        "  return t.items()\n",
        "\n",
        "def groupbykey_distributed(map_partitions, PARTITIONER):\n",
        "  global reducers\n",
        "  partitions = [dict() for _ in range(reducers)]\n",
        "  for map_partition in map_partitions:\n",
        "    for (k2, v2) in map_partition:\n",
        "      p = partitions[PARTITIONER(k2)]\n",
        "      p[k2] = p.get(k2, []) + [v2]\n",
        "  return [(partition_id, sorted(partition.items(), key=lambda x: x[0])) for (partition_id, partition) in enumerate(partitions)]\n",
        "\n",
        "def PARTITIONER(obj):\n",
        "  global reducers\n",
        "  return hash(obj) % reducers\n",
        "\n",
        "def MapReduceDistributed(INPUTFORMAT, MAP, REDUCE, PARTITIONER=PARTITIONER, COMBINER=None):\n",
        "  map_partitions = map(lambda record_reader: flatten(map(lambda k1v1: MAP(*k1v1), record_reader)), INPUTFORMAT())\n",
        "\n",
        "  if COMBINER != None:\n",
        "    map_partitions = map(lambda map_partition: flatten(map(lambda k2v2: COMBINER(*k2v2), groupbykey(map_partition))), map_partitions)\n",
        "\n",
        "  reduce_partitions = groupbykey_distributed(map_partitions, PARTITIONER)\n",
        "\n",
        "  reduce_outputs = map(lambda reduce_partition: (reduce_partition[0], flatten(map(lambda reduce_input_group: REDUCE(*reduce_input_group), reduce_partition[1]))), reduce_partitions)\n",
        "\n",
        "  print(\"{} key-value pairs were sent over a network.\".format(sum([len(vs) for (k,vs) in flatten([partition for (partition_id, partition) in reduce_partitions])])))\n",
        "  return reduce_outputs\n",
        "\n",
        "def asmatrix(reduce_output):\n",
        "  reduce_output = list(reduce_output)\n",
        "  I = max(i for ((i,k), vw) in reduce_output) + 1\n",
        "  K = max(k for ((i,k), vw) in reduce_output) + 1\n",
        "  mat = np.empty(shape=(I,K))\n",
        "  for ((i,k), vw) in reduce_output:\n",
        "    mat[i,k] = vw\n",
        "  return mat\n",
        "\n",
        "def INPUTFORMAT():\n",
        "  first_mat = []\n",
        "\n",
        "  for i in range(small_mat.shape[0]):\n",
        "    for j in range(small_mat.shape[1]):\n",
        "      first_mat.append(((0, i, j), small_mat[i,j]))\n",
        "\n",
        "  global maps\n",
        "  split_size = int(np.ceil(len(first_mat)/maps))\n",
        "\n",
        "  for i in range(0, len(first_mat), split_size):\n",
        "    yield first_mat[i:i+split_size]\n",
        "\n",
        "  second_mat = []\n",
        "\n",
        "  for j in range(big_mat.shape[0]):\n",
        "    for k in range(big_mat.shape[1]):\n",
        "      second_mat.append(((1, j, k), big_mat[j,k]))\n",
        "\n",
        "  split_size = int(np.ceil(len(second_mat)/maps))\n",
        "\n",
        "  for i in range(0, len(second_mat), split_size):\n",
        "    yield second_mat[i:i+split_size]\n",
        "\n",
        "def MAP_JOIN(k1, v1):\n",
        "  (mat_num, i, j) = k1\n",
        "  w = v1\n",
        "\n",
        "  if mat_num == 0:\n",
        "    yield (j, (mat_num, i, w))\n",
        "\n",
        "  else:\n",
        "    yield (i, (mat_num, j, w))\n",
        "\n",
        "def REDUCE_JOIN(key, values):\n",
        "  from_first_mat = [v for v in values if v[0] == 0]\n",
        "  from_second_mat = [v for v in values if v[0] == 1]\n",
        "\n",
        "  for f in from_first_mat:\n",
        "    for s in from_second_mat:\n",
        "      yield ((f[1], s[1]), f[2] * s[2])\n",
        "\n",
        "def GET_JOINED():\n",
        "\n",
        "  for j in joined:\n",
        "    print(\"aa\", j)\n",
        "    yield j[1]\n",
        "\n",
        "def MAP_MUL(k1, v1):\n",
        "  yield (k1, v1)\n",
        "\n",
        "def REDUCE_MUL(key, values):\n",
        "  res_val = 0\n",
        "\n",
        "  for v in values:\n",
        "    res_val += v\n",
        "  yield (key, res_val)\n",
        "\n",
        "maps = 3\n",
        "reducers = 2\n",
        "\n",
        "partitioned_output = MapReduceDistributed(INPUTFORMAT, MAP_JOIN, REDUCE_JOIN, COMBINER=None)\n",
        "joined = [(partition_id, list(partition)) for (partition_id, partition) in partitioned_output]\n",
        "print(joined)\n",
        "\n",
        "mul_output = MapReduceDistributed(GET_JOINED, MAP_MUL, REDUCE_MUL, COMBINER=None)\n",
        "pre_result = [(partition_id, list(partition)) for (partition_id, partition) in mul_output]\n",
        "print(pre_result)\n",
        "\n",
        "solution = []\n",
        "\n",
        "for p in pre_result:\n",
        "\n",
        "  for v in p[1]:\n",
        "    solution.append(v)\n",
        "\n",
        "print(solution)\n",
        "\n",
        "np.allclose(reference_solution, asmatrix(solution))"
      ],
      "execution_count": 44,
      "outputs": [
        {
          "output_type": "stream",
          "name": "stdout",
          "text": [
            "126 key-value pairs were sent over a network.\n",
            "[(0, [((0, 0), 0.20539858540185124), ((0, 1), 0.0009617393399619311), ((0, 2), 0.13047611452761615), ((0, 3), 0.20465822568661368), ((0, 4), 0.01055368971689809), ((0, 5), 0.06114878854464203), ((0, 6), 0.0910746412507865), ((0, 7), 0.20697739806196536), ((0, 8), 0.05756166084418511), ((0, 9), 0.1659228522647792), ((0, 10), 0.23072674234758836), ((0, 11), 0.01424618271184774), ((0, 12), 0.0021711610330737716), ((0, 13), 0.14653771710255284), ((0, 14), 0.03235767266988558), ((0, 15), 0.18128217934652152), ((0, 16), 0.027675105929419387), ((0, 17), 0.12734423628981112), ((0, 18), 0.18680461564369857), ((0, 19), 0.1389856980659263), ((0, 20), 0.1658731784909857), ((0, 21), 0.01813929559517629), ((0, 22), 0.14805560155936948), ((0, 23), 0.17557324879877406), ((0, 24), 0.11379728040406482), ((0, 25), 0.16260932966523542), ((0, 26), 0.12869766557493437), ((0, 27), 0.20369335319756918), ((0, 28), 0.09995589764048954), ((0, 29), 0.04218492514497515), ((0, 30), 0.019775623075958947), ((0, 31), 0.05641578017935006), ((0, 32), 0.21112525740085136), ((0, 33), 0.01746688299973011), ((0, 34), 0.01002809125571646), ((0, 35), 0.036548427161042944), ((0, 36), 0.11502462499764031), ((0, 37), 0.15291800211648474), ((0, 38), 0.1662996163371492), ((0, 39), 0.14677587562725775), ((1, 0), 0.5340035219154389), ((1, 1), 0.002500368703608764), ((1, 2), 0.3392170620224788), ((1, 3), 0.5320787048839697), ((1, 4), 0.027437907943720127), ((1, 5), 0.15897708535731223), ((1, 6), 0.23677952352960444), ((1, 7), 0.5381081827109169), ((1, 8), 0.14965112616505793), ((1, 9), 0.431372919644502), ((1, 10), 0.5998526853173632), ((1, 11), 0.03703780007585663), ((1, 12), 0.0056446719729770205), ((1, 13), 0.38097466383771006), ((1, 14), 0.08412478174034255), ((1, 15), 0.4713047173239014), ((1, 16), 0.07195085597488053), ((1, 17), 0.3310746787342678), ((1, 18), 0.48566216981792243), ((1, 19), 0.3613406203254773), ((1, 20), 0.43124377576505085), ((1, 21), 0.04715927188075972), ((1, 22), 0.3849209210342481), ((1, 23), 0.4564624095596908), ((1, 24), 0.29585475674664347), ((1, 25), 0.4227582900225843), ((1, 26), 0.33459337874627293), ((1, 27), 0.5295701904930792), ((1, 28), 0.25986937189373377), ((1, 29), 0.10967406886022718), ((1, 30), 0.05141346202542602), ((1, 31), 0.14667201942233346), ((1, 32), 0.5488919546197716), ((1, 33), 0.045411106510262846), ((1, 34), 0.026071435877541058), ((1, 35), 0.09502007419516977), ((1, 36), 0.2990456566951067), ((1, 37), 0.39756238600530985), ((1, 38), 0.43235244606715556), ((1, 39), 0.3815938379703741), ((0, 0), 0.24159252819166074), ((0, 1), 0.6673318179029113), ((0, 2), 0.13060404942637924), ((0, 3), 0.5989451558998552), ((0, 4), 0.4662719359352717), ((0, 5), 0.1206404958431304), ((0, 6), 0.4755481100611167), ((0, 7), 0.06162176456867912), ((0, 8), 0.08295022756556922), ((0, 9), 0.7608204899489313), ((0, 10), 0.38545254001101925), ((0, 11), 0.3318186770394743), ((0, 12), 0.07684483343023595), ((0, 13), 0.7064049301079223), ((0, 14), 0.708975261635193), ((0, 15), 0.43551117137603923), ((0, 16), 0.37033752952320415), ((0, 17), 0.5692750405392251), ((0, 18), 0.24800184416557672), ((0, 19), 0.057275042337015164), ((0, 20), 0.7069032635348761), ((0, 21), 0.37098009594877407), ((0, 22), 0.5006690951117757), ((0, 23), 0.05620532897891407), ((0, 24), 0.5288174712361102), ((0, 25), 0.1420246757785808), ((0, 26), 0.13909016994685194), ((0, 27), 0.7603083653119127), ((0, 28), 0.3796541742786996), ((0, 29), 0.1617904757770332), ((0, 30), 0.08432844721544798), ((0, 31), 0.47063832330644406), ((0, 32), 0.29020976939830634), ((0, 33), 0.4888034452706012), ((0, 34), 0.6702607782448113), ((0, 35), 0.10680097071505004), ((0, 36), 0.18463089041269412), ((0, 37), 0.2170647507349742), ((0, 38), 0.05089914873671117), ((0, 39), 0.4714349050677349), ((1, 0), 0.26235189833120576), ((1, 1), 0.7246737742847403), ((1, 2), 0.1418264900542398), ((1, 3), 0.6504108377141068), ((1, 4), 0.5063373790854157), ((1, 5), 0.1310067961826797), ((1, 6), 0.5164106289056072), ((1, 7), 0.06691675042320137), ((1, 8), 0.09007790858320006), ((1, 9), 0.8261956664033537), ((1, 10), 0.41857339854588493), ((1, 11), 0.3603309277594631), ((1, 12), 0.08344789500846657), ((1, 13), 0.7671043297221194), ((1, 14), 0.7698955226475276), ((1, 15), 0.47293342807484595), ((1, 16), 0.40215959748814484), ((1, 17), 0.6181912523368969), ((1, 18), 0.26931194889794935), ((1, 19), 0.062196526509277955), ((1, 20), 0.7676454835464608), ((1, 21), 0.4028573778492098), ((1, 22), 0.5436901899306146), ((1, 23), 0.061034895674629656), ((1, 24), 0.5742572772757225), ((1, 25), 0.15422845888191192), ((1, 26), 0.15104179917277014), ((1, 27), 0.825639536328845), ((1, 28), 0.41227679546598395), ((1, 29), 0.17569267878326203), ((1, 30), 0.09157455479229232), ((1, 31), 0.511078957909276), ((1, 32), 0.31514668307749105), ((1, 33), 0.5308049579904285), ((1, 34), 0.7278544119956247), ((1, 35), 0.11597807937371495), ((1, 36), 0.20049570635696137), ((1, 37), 0.23571651756933837), ((1, 38), 0.05527277020721829), ((1, 39), 0.5119439877130325)]), (1, [((0, 0), 0.2276272878116706), ((0, 1), 0.015519167776511899), ((0, 2), 0.5234906144634331), ((0, 3), 0.1965768048524543), ((0, 4), 0.24333555877456345), ((0, 5), 0.1289636821178204), ((0, 6), 0.1502454691798914), ((0, 7), 0.3571742975751286), ((0, 8), 0.27535891150054265), ((0, 9), 0.20556590129517482), ((0, 10), 0.346952971410303), ((0, 11), 0.4104747693523125), ((0, 12), 0.4086510183603191), ((0, 13), 0.5013167460365007), ((0, 14), 0.2774248731818259), ((0, 15), 0.3032266143818992), ((0, 16), 0.3675091196996476), ((0, 17), 0.19120768348109113), ((0, 18), 0.07929753786801626), ((0, 19), 0.24402529860411912), ((0, 20), 0.4982112369699712), ((0, 21), 0.591847518144871), ((0, 22), 0.23309866235121385), ((0, 23), 0.33520402609117883), ((0, 24), 0.02874312642372335), ((0, 25), 0.4505302061315375), ((0, 26), 0.2878045790609602), ((0, 27), 0.1274956570551605), ((0, 28), 0.45256379417120174), ((0, 29), 0.5822172493268764), ((0, 30), 0.005271361948461533), ((0, 31), 0.4041929982831702), ((0, 32), 0.5454783625914628), ((0, 33), 0.06741604329740541), ((0, 34), 0.4654799693848355), ((0, 35), 0.2627104261455962), ((0, 36), 0.4025209727355571), ((0, 37), 0.050779523991193995), ((0, 38), 0.034572119088434786), ((0, 39), 0.052389310818869744), ((1, 0), 0.3043615262619756), ((1, 1), 0.020750752847711336), ((1, 2), 0.6999617837283786), ((1, 3), 0.26284377821211286), ((1, 4), 0.32536512987719035), ((1, 5), 0.17243795108703838), ((1, 6), 0.2008939295159225), ((1, 7), 0.47757944751095677), ((1, 8), 0.3681837067069096), ((1, 9), 0.27486314170462217), ((1, 10), 0.46391246381205303), ((1, 11), 0.5488477611500885), ((1, 12), 0.5464092150479), ((1, 13), 0.6703129990750327), ((1, 14), 0.37094611387065163), ((1, 15), 0.4054457444174431), ((1, 16), 0.4913981871959242), ((1, 17), 0.2556647005585324), ((1, 18), 0.1060291140238627), ((1, 19), 0.32628738427500636), ((1, 20), 0.666160608171481), ((1, 21), 0.7913621238854808), ((1, 22), 0.31167732711175805), ((1, 23), 0.44820289329581636), ((1, 24), 0.038432570681522775), ((1, 25), 0.6024060756668507), ((1, 26), 0.38482486783681713), ((1, 27), 0.1704750478123147), ((1, 28), 0.6051251958808226), ((1, 29), 0.7784854457686504), ((1, 30), 0.007048363065505871), ((1, 31), 0.5404483752565381), ((1, 32), 0.7293617060472168), ((1, 33), 0.09014231127472815), ((1, 34), 0.622395475025655), ((1, 35), 0.35127135694189005), ((1, 36), 0.5382127019657261), ((1, 37), 0.06789754239660191), ((1, 38), 0.04622654442279614), ((1, 39), 0.07004999599976212)])]\n",
            "aa (0, [((0, 0), 0.20539858540185124), ((0, 1), 0.0009617393399619311), ((0, 2), 0.13047611452761615), ((0, 3), 0.20465822568661368), ((0, 4), 0.01055368971689809), ((0, 5), 0.06114878854464203), ((0, 6), 0.0910746412507865), ((0, 7), 0.20697739806196536), ((0, 8), 0.05756166084418511), ((0, 9), 0.1659228522647792), ((0, 10), 0.23072674234758836), ((0, 11), 0.01424618271184774), ((0, 12), 0.0021711610330737716), ((0, 13), 0.14653771710255284), ((0, 14), 0.03235767266988558), ((0, 15), 0.18128217934652152), ((0, 16), 0.027675105929419387), ((0, 17), 0.12734423628981112), ((0, 18), 0.18680461564369857), ((0, 19), 0.1389856980659263), ((0, 20), 0.1658731784909857), ((0, 21), 0.01813929559517629), ((0, 22), 0.14805560155936948), ((0, 23), 0.17557324879877406), ((0, 24), 0.11379728040406482), ((0, 25), 0.16260932966523542), ((0, 26), 0.12869766557493437), ((0, 27), 0.20369335319756918), ((0, 28), 0.09995589764048954), ((0, 29), 0.04218492514497515), ((0, 30), 0.019775623075958947), ((0, 31), 0.05641578017935006), ((0, 32), 0.21112525740085136), ((0, 33), 0.01746688299973011), ((0, 34), 0.01002809125571646), ((0, 35), 0.036548427161042944), ((0, 36), 0.11502462499764031), ((0, 37), 0.15291800211648474), ((0, 38), 0.1662996163371492), ((0, 39), 0.14677587562725775), ((1, 0), 0.5340035219154389), ((1, 1), 0.002500368703608764), ((1, 2), 0.3392170620224788), ((1, 3), 0.5320787048839697), ((1, 4), 0.027437907943720127), ((1, 5), 0.15897708535731223), ((1, 6), 0.23677952352960444), ((1, 7), 0.5381081827109169), ((1, 8), 0.14965112616505793), ((1, 9), 0.431372919644502), ((1, 10), 0.5998526853173632), ((1, 11), 0.03703780007585663), ((1, 12), 0.0056446719729770205), ((1, 13), 0.38097466383771006), ((1, 14), 0.08412478174034255), ((1, 15), 0.4713047173239014), ((1, 16), 0.07195085597488053), ((1, 17), 0.3310746787342678), ((1, 18), 0.48566216981792243), ((1, 19), 0.3613406203254773), ((1, 20), 0.43124377576505085), ((1, 21), 0.04715927188075972), ((1, 22), 0.3849209210342481), ((1, 23), 0.4564624095596908), ((1, 24), 0.29585475674664347), ((1, 25), 0.4227582900225843), ((1, 26), 0.33459337874627293), ((1, 27), 0.5295701904930792), ((1, 28), 0.25986937189373377), ((1, 29), 0.10967406886022718), ((1, 30), 0.05141346202542602), ((1, 31), 0.14667201942233346), ((1, 32), 0.5488919546197716), ((1, 33), 0.045411106510262846), ((1, 34), 0.026071435877541058), ((1, 35), 0.09502007419516977), ((1, 36), 0.2990456566951067), ((1, 37), 0.39756238600530985), ((1, 38), 0.43235244606715556), ((1, 39), 0.3815938379703741), ((0, 0), 0.24159252819166074), ((0, 1), 0.6673318179029113), ((0, 2), 0.13060404942637924), ((0, 3), 0.5989451558998552), ((0, 4), 0.4662719359352717), ((0, 5), 0.1206404958431304), ((0, 6), 0.4755481100611167), ((0, 7), 0.06162176456867912), ((0, 8), 0.08295022756556922), ((0, 9), 0.7608204899489313), ((0, 10), 0.38545254001101925), ((0, 11), 0.3318186770394743), ((0, 12), 0.07684483343023595), ((0, 13), 0.7064049301079223), ((0, 14), 0.708975261635193), ((0, 15), 0.43551117137603923), ((0, 16), 0.37033752952320415), ((0, 17), 0.5692750405392251), ((0, 18), 0.24800184416557672), ((0, 19), 0.057275042337015164), ((0, 20), 0.7069032635348761), ((0, 21), 0.37098009594877407), ((0, 22), 0.5006690951117757), ((0, 23), 0.05620532897891407), ((0, 24), 0.5288174712361102), ((0, 25), 0.1420246757785808), ((0, 26), 0.13909016994685194), ((0, 27), 0.7603083653119127), ((0, 28), 0.3796541742786996), ((0, 29), 0.1617904757770332), ((0, 30), 0.08432844721544798), ((0, 31), 0.47063832330644406), ((0, 32), 0.29020976939830634), ((0, 33), 0.4888034452706012), ((0, 34), 0.6702607782448113), ((0, 35), 0.10680097071505004), ((0, 36), 0.18463089041269412), ((0, 37), 0.2170647507349742), ((0, 38), 0.05089914873671117), ((0, 39), 0.4714349050677349), ((1, 0), 0.26235189833120576), ((1, 1), 0.7246737742847403), ((1, 2), 0.1418264900542398), ((1, 3), 0.6504108377141068), ((1, 4), 0.5063373790854157), ((1, 5), 0.1310067961826797), ((1, 6), 0.5164106289056072), ((1, 7), 0.06691675042320137), ((1, 8), 0.09007790858320006), ((1, 9), 0.8261956664033537), ((1, 10), 0.41857339854588493), ((1, 11), 0.3603309277594631), ((1, 12), 0.08344789500846657), ((1, 13), 0.7671043297221194), ((1, 14), 0.7698955226475276), ((1, 15), 0.47293342807484595), ((1, 16), 0.40215959748814484), ((1, 17), 0.6181912523368969), ((1, 18), 0.26931194889794935), ((1, 19), 0.062196526509277955), ((1, 20), 0.7676454835464608), ((1, 21), 0.4028573778492098), ((1, 22), 0.5436901899306146), ((1, 23), 0.061034895674629656), ((1, 24), 0.5742572772757225), ((1, 25), 0.15422845888191192), ((1, 26), 0.15104179917277014), ((1, 27), 0.825639536328845), ((1, 28), 0.41227679546598395), ((1, 29), 0.17569267878326203), ((1, 30), 0.09157455479229232), ((1, 31), 0.511078957909276), ((1, 32), 0.31514668307749105), ((1, 33), 0.5308049579904285), ((1, 34), 0.7278544119956247), ((1, 35), 0.11597807937371495), ((1, 36), 0.20049570635696137), ((1, 37), 0.23571651756933837), ((1, 38), 0.05527277020721829), ((1, 39), 0.5119439877130325)])\n",
            "aa (1, [((0, 0), 0.2276272878116706), ((0, 1), 0.015519167776511899), ((0, 2), 0.5234906144634331), ((0, 3), 0.1965768048524543), ((0, 4), 0.24333555877456345), ((0, 5), 0.1289636821178204), ((0, 6), 0.1502454691798914), ((0, 7), 0.3571742975751286), ((0, 8), 0.27535891150054265), ((0, 9), 0.20556590129517482), ((0, 10), 0.346952971410303), ((0, 11), 0.4104747693523125), ((0, 12), 0.4086510183603191), ((0, 13), 0.5013167460365007), ((0, 14), 0.2774248731818259), ((0, 15), 0.3032266143818992), ((0, 16), 0.3675091196996476), ((0, 17), 0.19120768348109113), ((0, 18), 0.07929753786801626), ((0, 19), 0.24402529860411912), ((0, 20), 0.4982112369699712), ((0, 21), 0.591847518144871), ((0, 22), 0.23309866235121385), ((0, 23), 0.33520402609117883), ((0, 24), 0.02874312642372335), ((0, 25), 0.4505302061315375), ((0, 26), 0.2878045790609602), ((0, 27), 0.1274956570551605), ((0, 28), 0.45256379417120174), ((0, 29), 0.5822172493268764), ((0, 30), 0.005271361948461533), ((0, 31), 0.4041929982831702), ((0, 32), 0.5454783625914628), ((0, 33), 0.06741604329740541), ((0, 34), 0.4654799693848355), ((0, 35), 0.2627104261455962), ((0, 36), 0.4025209727355571), ((0, 37), 0.050779523991193995), ((0, 38), 0.034572119088434786), ((0, 39), 0.052389310818869744), ((1, 0), 0.3043615262619756), ((1, 1), 0.020750752847711336), ((1, 2), 0.6999617837283786), ((1, 3), 0.26284377821211286), ((1, 4), 0.32536512987719035), ((1, 5), 0.17243795108703838), ((1, 6), 0.2008939295159225), ((1, 7), 0.47757944751095677), ((1, 8), 0.3681837067069096), ((1, 9), 0.27486314170462217), ((1, 10), 0.46391246381205303), ((1, 11), 0.5488477611500885), ((1, 12), 0.5464092150479), ((1, 13), 0.6703129990750327), ((1, 14), 0.37094611387065163), ((1, 15), 0.4054457444174431), ((1, 16), 0.4913981871959242), ((1, 17), 0.2556647005585324), ((1, 18), 0.1060291140238627), ((1, 19), 0.32628738427500636), ((1, 20), 0.666160608171481), ((1, 21), 0.7913621238854808), ((1, 22), 0.31167732711175805), ((1, 23), 0.44820289329581636), ((1, 24), 0.038432570681522775), ((1, 25), 0.6024060756668507), ((1, 26), 0.38482486783681713), ((1, 27), 0.1704750478123147), ((1, 28), 0.6051251958808226), ((1, 29), 0.7784854457686504), ((1, 30), 0.007048363065505871), ((1, 31), 0.5404483752565381), ((1, 32), 0.7293617060472168), ((1, 33), 0.09014231127472815), ((1, 34), 0.622395475025655), ((1, 35), 0.35127135694189005), ((1, 36), 0.5382127019657261), ((1, 37), 0.06789754239660191), ((1, 38), 0.04622654442279614), ((1, 39), 0.07004999599976212)])\n",
            "240 key-value pairs were sent over a network.\n",
            "[(0, [((0, 1), 0.6838127250193851), ((0, 2), 0.7845707784174285), ((0, 4), 0.7201611844267333), ((0, 5), 0.3107529665055928), ((0, 8), 0.41587079991029696), ((0, 9), 1.1323092435088853), ((0, 11), 0.7565396291036346), ((0, 12), 0.4876670128236288), ((0, 15), 0.9200199651044598), ((0, 16), 0.7655217551522712), ((0, 18), 0.5141039976772915), ((0, 19), 0.4402860390070606), ((0, 22), 0.881823359022359), ((0, 23), 0.566982603868867), ((0, 25), 0.7551642115753537), ((0, 26), 0.5555924145827464), ((0, 29), 0.7861926502488847), ((0, 32), 1.0468133893906204), ((0, 33), 0.5736863715677367), ((0, 36), 0.7021764881458915), ((0, 39), 0.6706000915138624), ((1, 0), 1.1007169465086202), ((1, 1), 0.7479248958360605), ((1, 3), 1.4453333208101895), ((1, 4), 0.8591404169063261), ((1, 7), 1.082604380645075), ((1, 10), 1.4823385476753013), ((1, 11), 0.9462164889854082), ((1, 14), 1.2249664182585218), ((1, 17), 1.204930631629697), ((1, 18), 0.8610032327397346), ((1, 21), 1.2413787736154502), ((1, 24), 0.9085446047038888), ((1, 25), 1.1793928245713468), ((1, 27), 1.525684774634239), ((1, 28), 1.2772713632405404), ((1, 31), 1.1981993525881476), ((1, 32), 1.5934003437444795), ((1, 34), 1.3763213228988207), ((1, 35), 0.5622695105107748), ((1, 38), 0.53385176069717), ((1, 39), 0.9635878216831687)]), (1, [((0, 0), 0.6746184014051826), ((0, 3), 1.0001801864389233), ((0, 6), 0.7168682204917947), ((0, 7), 0.6257734602057731), ((0, 10), 0.9631322537689107), ((0, 13), 1.3542593932469758), ((0, 14), 1.0187578074869044), ((0, 17), 0.8878269603101274), ((0, 20), 1.370987678995833), ((0, 21), 0.9809669096888214), ((0, 24), 0.6713578780638984), ((0, 27), 1.0914973755646424), ((0, 28), 0.9321738660903909), ((0, 30), 0.10937543223986845), ((0, 31), 0.9312471017689643), ((0, 34), 1.1457688388853633), ((0, 35), 0.40605982402168916), ((0, 37), 0.42076227684265294), ((0, 38), 0.25177088416229515), ((1, 2), 1.1810053358050971), ((1, 5), 0.4624218326270303), ((1, 6), 0.954084081951134), ((1, 8), 0.6079127414551676), ((1, 9), 1.5324317277524777), ((1, 12), 0.6355017820293436), ((1, 13), 1.8183919926348622), ((1, 15), 1.3496838898161905), ((1, 16), 0.9655086406589496), ((1, 19), 0.7498245311097617), ((1, 20), 1.8650498674829927), ((1, 22), 1.2402884380766208), ((1, 23), 0.9657001985301368), ((1, 26), 0.8704600457558602), ((1, 29), 1.0638521934121397), ((1, 30), 0.1500363798832242), ((1, 33), 0.6663583757754195), ((1, 36), 1.0377540650177943), ((1, 37), 0.7011764459712502)])]\n",
            "[((0, 1), 0.6838127250193851), ((0, 2), 0.7845707784174285), ((0, 4), 0.7201611844267333), ((0, 5), 0.3107529665055928), ((0, 8), 0.41587079991029696), ((0, 9), 1.1323092435088853), ((0, 11), 0.7565396291036346), ((0, 12), 0.4876670128236288), ((0, 15), 0.9200199651044598), ((0, 16), 0.7655217551522712), ((0, 18), 0.5141039976772915), ((0, 19), 0.4402860390070606), ((0, 22), 0.881823359022359), ((0, 23), 0.566982603868867), ((0, 25), 0.7551642115753537), ((0, 26), 0.5555924145827464), ((0, 29), 0.7861926502488847), ((0, 32), 1.0468133893906204), ((0, 33), 0.5736863715677367), ((0, 36), 0.7021764881458915), ((0, 39), 0.6706000915138624), ((1, 0), 1.1007169465086202), ((1, 1), 0.7479248958360605), ((1, 3), 1.4453333208101895), ((1, 4), 0.8591404169063261), ((1, 7), 1.082604380645075), ((1, 10), 1.4823385476753013), ((1, 11), 0.9462164889854082), ((1, 14), 1.2249664182585218), ((1, 17), 1.204930631629697), ((1, 18), 0.8610032327397346), ((1, 21), 1.2413787736154502), ((1, 24), 0.9085446047038888), ((1, 25), 1.1793928245713468), ((1, 27), 1.525684774634239), ((1, 28), 1.2772713632405404), ((1, 31), 1.1981993525881476), ((1, 32), 1.5934003437444795), ((1, 34), 1.3763213228988207), ((1, 35), 0.5622695105107748), ((1, 38), 0.53385176069717), ((1, 39), 0.9635878216831687), ((0, 0), 0.6746184014051826), ((0, 3), 1.0001801864389233), ((0, 6), 0.7168682204917947), ((0, 7), 0.6257734602057731), ((0, 10), 0.9631322537689107), ((0, 13), 1.3542593932469758), ((0, 14), 1.0187578074869044), ((0, 17), 0.8878269603101274), ((0, 20), 1.370987678995833), ((0, 21), 0.9809669096888214), ((0, 24), 0.6713578780638984), ((0, 27), 1.0914973755646424), ((0, 28), 0.9321738660903909), ((0, 30), 0.10937543223986845), ((0, 31), 0.9312471017689643), ((0, 34), 1.1457688388853633), ((0, 35), 0.40605982402168916), ((0, 37), 0.42076227684265294), ((0, 38), 0.25177088416229515), ((1, 2), 1.1810053358050971), ((1, 5), 0.4624218326270303), ((1, 6), 0.954084081951134), ((1, 8), 0.6079127414551676), ((1, 9), 1.5324317277524777), ((1, 12), 0.6355017820293436), ((1, 13), 1.8183919926348622), ((1, 15), 1.3496838898161905), ((1, 16), 0.9655086406589496), ((1, 19), 0.7498245311097617), ((1, 20), 1.8650498674829927), ((1, 22), 1.2402884380766208), ((1, 23), 0.9657001985301368), ((1, 26), 0.8704600457558602), ((1, 29), 1.0638521934121397), ((1, 30), 0.1500363798832242), ((1, 33), 0.6663583757754195), ((1, 36), 1.0377540650177943), ((1, 37), 0.7011764459712502)]\n"
          ]
        },
        {
          "output_type": "execute_result",
          "data": {
            "text/plain": [
              "True"
            ]
          },
          "metadata": {},
          "execution_count": 44
        }
      ]
    }
  ]
}