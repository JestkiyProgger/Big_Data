{
  "nbformat": 4,
  "nbformat_minor": 0,
  "metadata": {
    "colab": {
      "provenance": []
    },
    "kernelspec": {
      "name": "python3",
      "display_name": "Python 3"
    },
    "language_info": {
      "name": "python"
    }
  },
  "cells": [
    {
      "cell_type": "code",
      "execution_count": 54,
      "metadata": {
        "id": "Knwwe6row5ko"
      },
      "outputs": [],
      "source": [
        "from pyspark.sql import SparkSession\n",
        "from pyspark.sql.functions import hypot, col, max, sum\n",
        "from pyspark.sql.functions import countDistinct\n",
        "\n",
        "spark = SparkSession.builder.getOrCreate()"
      ]
    },
    {
      "cell_type": "markdown",
      "source": [
        "# 1. Найти велосипед с максимальным временем пробега."
      ],
      "metadata": {
        "id": "3Z1ZoMQo1HZv"
      }
    },
    {
      "cell_type": "code",
      "source": [
        "# Загрузка данных из CSV в DataFrame\n",
        "tripData = spark.read\\\n",
        ".option(\"header\", True)\\\n",
        ".option(\"inferSchema\", True)\\\n",
        ".option(\"timestampFormat\", 'M/d/y H:m')\\\n",
        ".csv(\"trip.csv\")"
      ],
      "metadata": {
        "id": "pXKCkjngzXgp"
      },
      "execution_count": 55,
      "outputs": []
    },
    {
      "cell_type": "code",
      "source": [
        "# Найти максимальное значение duration\n",
        "max_duration = tripData.agg(max(col(\"duration\"))).collect()[0][0]\n",
        "\n",
        "# Найти все велосипеды с этой максимальной продолжительностью\n",
        "max_duration_trips = (\n",
        "    tripData.filter(col(\"duration\") == max_duration)\n",
        "    .select(\"bike_id\", \"duration\")\n",
        ")\n",
        "\n",
        "max_duration_trips.show()"
      ],
      "metadata": {
        "id": "FjzzZl2G3ib_",
        "colab": {
          "base_uri": "https://localhost:8080/"
        },
        "outputId": "35653388-0b58-4e43-85b6-9e34cadd6e79"
      },
      "execution_count": 56,
      "outputs": [
        {
          "output_type": "stream",
          "name": "stdout",
          "text": [
            "+-------+--------+\n",
            "|bike_id|duration|\n",
            "+-------+--------+\n",
            "|    535|17270400|\n",
            "+-------+--------+\n",
            "\n"
          ]
        }
      ]
    },
    {
      "cell_type": "markdown",
      "source": [
        "# 2. Найти наибольшее геодезическое расстояние между станциями."
      ],
      "metadata": {
        "id": "6U5g91St5-S3"
      }
    },
    {
      "cell_type": "code",
      "source": [
        "# Загрузка данных из CSV в DataFrame\n",
        "stationData = spark.read\\\n",
        ".option(\"header\", True)\\\n",
        ".option(\"inferSchema\", True)\\\n",
        ".option(\"timestampFormat\", 'M/d/y')\\\n",
        ".csv(\"station.csv\")"
      ],
      "metadata": {
        "id": "CcdXeHNp6GRT"
      },
      "execution_count": 57,
      "outputs": []
    },
    {
      "cell_type": "code",
      "source": [
        "# Создаём пары станций\n",
        "station_pairs = stationData.alias(\"s1\").crossJoin(stationData.alias(\"s2\")) \\\n",
        "    .filter(col(\"s1.id\") < col(\"s2.id\"))\n",
        "\n",
        "# Вычисляем расстояние по евклидовой метрике\n",
        "distance_df = station_pairs.withColumn(\n",
        "    \"distance\",\n",
        "    hypot(col(\"s2.lat\") - col(\"s1.lat\"), col(\"s2.long\") - col(\"s1.long\"))\n",
        ")\n",
        "\n",
        "# Находим максимальное расстояние\n",
        "max_distance = distance_df.orderBy(col(\"distance\").desc()).select(\n",
        "    col(\"s1.name\").alias(\"station_1\"),\n",
        "    col(\"s2.name\").alias(\"station_2\"),\n",
        "    col(\"distance\")\n",
        ").limit(1)\n",
        "\n",
        "max_distance.show()"
      ],
      "metadata": {
        "colab": {
          "base_uri": "https://localhost:8080/"
        },
        "id": "CUCzqdh17H3f",
        "outputId": "6e6a60b2-3d67-4554-8c87-30b4c68db8b7"
      },
      "execution_count": 58,
      "outputs": [
        {
          "output_type": "stream",
          "name": "stdout",
          "text": [
            "+--------------------+--------------------+------------------+\n",
            "|           station_1|           station_2|          distance|\n",
            "+--------------------+--------------------+------------------+\n",
            "|SJSU - San Salvad...|Embarcadero at Sa...|0.7058482821754397|\n",
            "+--------------------+--------------------+------------------+\n",
            "\n"
          ]
        }
      ]
    },
    {
      "cell_type": "markdown",
      "source": [
        "# 3. Найти путь велосипеда с максимальным временем пробега через станции."
      ],
      "metadata": {
        "id": "lMHMAqEI__El"
      }
    },
    {
      "cell_type": "code",
      "source": [
        "# Найдём велосипед с максимальным временем пробега\n",
        "bike_max_time = (\n",
        "    tripData.groupBy(\"bike_id\")\n",
        "    .agg(sum(col(\"duration\")).alias(\"total_duration\"))\n",
        "    .orderBy(col(\"total_duration\").desc())\n",
        "    .limit(1)\n",
        ")\n",
        "\n",
        "# Получаем его ID\n",
        "max_bike_id = bike_max_time.collect()[0][\"bike_id\"]\n",
        "\n",
        "# Фильтруем поездки этого велосипеда\n",
        "bike_trips = (\n",
        "    tripData.filter(col(\"bike_id\") == max_bike_id)\n",
        "    .orderBy(col(\"start_date\"))\n",
        "    .select(\"bike_id\", \"start_station_name\", \"end_station_name\", \"duration\")\n",
        ")\n",
        "\n",
        "bike_trips.show()"
      ],
      "metadata": {
        "colab": {
          "base_uri": "https://localhost:8080/"
        },
        "id": "kruXFkgbABra",
        "outputId": "e91b3554-57a6-4601-b36c-4b1f264e4a6f"
      },
      "execution_count": 59,
      "outputs": [
        {
          "output_type": "stream",
          "name": "stdout",
          "text": [
            "+-------+--------------------+--------------------+--------+\n",
            "|bike_id|  start_station_name|    end_station_name|duration|\n",
            "+-------+--------------------+--------------------+--------+\n",
            "|    535|     Post at Kearney|San Francisco Cal...|    1245|\n",
            "|    535|San Francisco Cal...|San Francisco Cal...|     423|\n",
            "|    535|San Francisco Cal...|   Market at Sansome|     842|\n",
            "|    535|   Market at Sansome|   2nd at South Park|     498|\n",
            "|    535|     2nd at Townsend|    Davis at Jackson|    1671|\n",
            "|    535|San Francisco Cit...|Civic Center BART...|     260|\n",
            "|    535|Civic Center BART...|     Post at Kearney|    1192|\n",
            "|    535|     Post at Kearney|Embarcadero at Sa...|    1248|\n",
            "|    535|Embarcadero at Sa...|Washington at Kea...|    1272|\n",
            "|    535|Washington at Kea...|   Market at Sansome|     398|\n",
            "|    535|   Market at Sansome|   Market at Sansome|   12476|\n",
            "|    535|   Market at Sansome|       2nd at Folsom|     582|\n",
            "|    535|       2nd at Folsom|     2nd at Townsend|     499|\n",
            "|    535|Temporary Transba...|     2nd at Townsend|     467|\n",
            "|    535|     2nd at Townsend|Embarcadero at Sa...|     945|\n",
            "|    535|Embarcadero at Sa...|     Clay at Battery|     935|\n",
            "|    535|     Clay at Battery|Harry Bridges Pla...|     207|\n",
            "|    535|Harry Bridges Pla...|     Clay at Battery|     231|\n",
            "|    535|     Clay at Battery|San Francisco Cal...|    1082|\n",
            "|    535|San Francisco Cal...|   Steuart at Market|     642|\n",
            "+-------+--------------------+--------------------+--------+\n",
            "only showing top 20 rows\n",
            "\n"
          ]
        }
      ]
    },
    {
      "cell_type": "markdown",
      "source": [
        "# 4. Найти количество велосипедов в системе"
      ],
      "metadata": {
        "id": "8PLGJngwBvrW"
      }
    },
    {
      "cell_type": "code",
      "source": [
        "bike_count = tripData.select(countDistinct(\"bike_id\").alias(\"total_bikes\"))\n",
        "\n",
        "bike_count.show()"
      ],
      "metadata": {
        "colab": {
          "base_uri": "https://localhost:8080/"
        },
        "id": "Q9OcUAPcCArh",
        "outputId": "18d18565-49d6-4dd0-ca4e-21f134276074"
      },
      "execution_count": 60,
      "outputs": [
        {
          "output_type": "stream",
          "name": "stdout",
          "text": [
            "+-----------+\n",
            "|total_bikes|\n",
            "+-----------+\n",
            "|        700|\n",
            "+-----------+\n",
            "\n"
          ]
        }
      ]
    },
    {
      "cell_type": "markdown",
      "source": [
        "# 5. Найти пользователей потративших на поездки более 3 часов."
      ],
      "metadata": {
        "id": "jq7kDmgQCUEo"
      }
    },
    {
      "cell_type": "code",
      "source": [
        "# Группируем по 'bike_id' и суммируем время всех поездок для каждого пользователя\n",
        "users_trip_time = (\n",
        "    tripData.groupBy(\"zip_code\")\n",
        "    .agg(sum(col(\"duration\")).alias(\"total_duration\"))\n",
        ")\n",
        "\n",
        "# Фильтруем пользователей, чье суммарное время больше 3 часов (10800с)\n",
        "long_trip_users = users_trip_time.filter(col(\"total_duration\") > 10800)\n",
        "\n",
        "long_trip_users.show()"
      ],
      "metadata": {
        "colab": {
          "base_uri": "https://localhost:8080/"
        },
        "id": "nuqTZAquCX61",
        "outputId": "3b21893e-ca69-4b60-cc72-72c7bc7d2f60"
      },
      "execution_count": 61,
      "outputs": [
        {
          "output_type": "stream",
          "name": "stdout",
          "text": [
            "+--------+--------------+\n",
            "|zip_code|total_duration|\n",
            "+--------+--------------+\n",
            "|   94102|      19128021|\n",
            "|   95134|        728023|\n",
            "|   84606|         95145|\n",
            "|   80305|        180906|\n",
            "|   60070|         28919|\n",
            "|   95519|         30303|\n",
            "|   43085|         11670|\n",
            "|   91910|         50488|\n",
            "|   77339|         13713|\n",
            "|   48063|         13755|\n",
            "|   85022|         12682|\n",
            "|    1090|         20391|\n",
            "|    2136|         16010|\n",
            "|   11722|         24331|\n",
            "|   95138|        155365|\n",
            "|   94610|       3630628|\n",
            "|   94404|       3589350|\n",
            "|   80301|        152189|\n",
            "|   91326|         65885|\n",
            "|   90742|         10965|\n",
            "+--------+--------------+\n",
            "only showing top 20 rows\n",
            "\n"
          ]
        }
      ]
    }
  ]
}