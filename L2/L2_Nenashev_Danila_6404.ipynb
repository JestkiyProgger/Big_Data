{
  "nbformat": 4,
  "nbformat_minor": 0,
  "metadata": {
    "colab": {
      "provenance": []
    },
    "kernelspec": {
      "name": "python3",
      "display_name": "Python 3"
    },
    "language_info": {
      "name": "python"
    }
  },
  "cells": [
    {
      "cell_type": "markdown",
      "source": [
        "1. Настройка окружения и загрузка библиотек"
      ],
      "metadata": {
        "id": "fYUYlV5AOScO"
      }
    },
    {
      "cell_type": "code",
      "source": [
        "!pip install pyspark\n",
        "!pip install --upgrade pyspark cloudpickle"
      ],
      "metadata": {
        "colab": {
          "base_uri": "https://localhost:8080/"
        },
        "id": "uRkReH0iLEeW",
        "outputId": "f2082ba9-b5b1-4f63-c12e-6386cf6e3641"
      },
      "execution_count": 24,
      "outputs": [
        {
          "output_type": "stream",
          "name": "stdout",
          "text": [
            "Requirement already satisfied: pyspark in /usr/local/lib/python3.11/dist-packages (3.5.5)\n",
            "Requirement already satisfied: py4j==0.10.9.7 in /usr/local/lib/python3.11/dist-packages (from pyspark) (0.10.9.7)\n",
            "Requirement already satisfied: pyspark in /usr/local/lib/python3.11/dist-packages (3.5.5)\n",
            "Requirement already satisfied: cloudpickle in /usr/local/lib/python3.11/dist-packages (3.1.1)\n",
            "Requirement already satisfied: py4j==0.10.9.7 in /usr/local/lib/python3.11/dist-packages (from pyspark) (0.10.9.7)\n"
          ]
        }
      ]
    },
    {
      "cell_type": "code",
      "execution_count": 25,
      "metadata": {
        "id": "V8K7zhxqIsNP"
      },
      "outputs": [],
      "source": [
        "import os\n",
        "import sys\n",
        "from pyspark.sql import Row, SparkSession\n",
        "from pyspark.sql.functions import col"
      ]
    },
    {
      "cell_type": "code",
      "source": [
        "os.environ['PYSPARK_PYTHON'] = sys.executable\n",
        "os.environ['PYSPARK_DRIVER_PYTHON'] = sys.executable\n",
        "os.environ['PYSPARK_SUBMIT_ARGS'] = '--packages com.databricks:spark-xml_2.12:0.17.0 pyspark-shell'"
      ],
      "metadata": {
        "id": "sF2m_2PIIy_4"
      },
      "execution_count": 26,
      "outputs": []
    },
    {
      "cell_type": "markdown",
      "source": [
        "2. Создание Spark-сессии"
      ],
      "metadata": {
        "id": "MKuUUELjOVIq"
      }
    },
    {
      "cell_type": "code",
      "source": [
        "spark = SparkSession.builder.getOrCreate()"
      ],
      "metadata": {
        "id": "w9vjR4ZrI2C6"
      },
      "execution_count": 27,
      "outputs": []
    },
    {
      "cell_type": "markdown",
      "source": [
        "3. Загрузка данных"
      ],
      "metadata": {
        "id": "UKYel80XOYLF"
      }
    },
    {
      "cell_type": "code",
      "source": [
        "# Скачиваем файл, если его нет\n",
        "if not os.path.exists('posts_sample.xml'):\n",
        "    !wget https://git.ai.ssau.ru/tk/big_data/raw/branch/master/data/posts_sample.xml\n",
        "\n",
        "# Чтение XML-файла\n",
        "posts_df = spark.read.format('xml') \\\n",
        "    .option('rowTag', 'row') \\\n",
        "    .option(\"timestampFormat\", 'yyyy/MM/dd HH:mm:ss') \\\n",
        "    .load('posts_sample.xml')\n",
        "\n",
        "# Проверка данных\n",
        "print(\"Количество строк:\", posts_df.count())\n",
        "\n",
        "start_date, end_date = \"2010-01-01\", \"2020-12-31\"\n",
        "posts_filtered = posts_df.filter(col(\"_CreationDate\").between(start_date, end_date))"
      ],
      "metadata": {
        "colab": {
          "base_uri": "https://localhost:8080/"
        },
        "id": "GeWRnteII3vV",
        "outputId": "68f897b3-31e8-49ea-ba21-fce3813bfa8b"
      },
      "execution_count": 28,
      "outputs": [
        {
          "output_type": "stream",
          "name": "stdout",
          "text": [
            "Количество строк: 46006\n"
          ]
        }
      ]
    },
    {
      "cell_type": "code",
      "source": [
        "# Скачиваем файл, если его нет\n",
        "if not os.path.exists('programming-languages.csv'):\n",
        "    !wget https://git.ai.ssau.ru/tk/big_data/raw/branch/master/data/programming-languages.csv\n",
        "\n",
        "# Чтение CSV-файла\n",
        "languages_df = spark.read.format('csv') \\\n",
        "    .option('header', 'true') \\\n",
        "    .option(\"inferSchema\", True) \\\n",
        "    .load('programming-languages.csv') \\\n",
        "    .dropna()\n",
        "\n",
        "# Проверка данных\n",
        "print(\"Всего языков:\", languages_df.count())\n",
        "\n",
        "language_names = [row['name'] for row in languages_df.collect()]"
      ],
      "metadata": {
        "colab": {
          "base_uri": "https://localhost:8080/"
        },
        "id": "yEHIHZ-AI47B",
        "outputId": "52fd8dbf-a129-4578-959e-f835d32568ef"
      },
      "execution_count": 29,
      "outputs": [
        {
          "output_type": "stream",
          "name": "stdout",
          "text": [
            "Всего языков: 699\n"
          ]
        }
      ]
    },
    {
      "cell_type": "markdown",
      "source": [
        "4. Функция для поиска языков в тегах"
      ],
      "metadata": {
        "id": "3BDdYUBkX_IT"
      }
    },
    {
      "cell_type": "code",
      "source": [
        "def includes_name(row):\n",
        "    creation_date = row[\"_CreationDate\"]\n",
        "    tags = str(row[\"_Tags\"]).lower() if row[\"_Tags\"] else \"\"\n",
        "    for name in language_names:\n",
        "        if f\"<{name.lower()}>\" in tags:\n",
        "            return (creation_date, name)\n",
        "    return (creation_date, 'None')"
      ],
      "metadata": {
        "id": "zX8MrGXqYAvP"
      },
      "execution_count": 30,
      "outputs": []
    },
    {
      "cell_type": "markdown",
      "source": [
        "5. Обработка постов и подсчет языков"
      ],
      "metadata": {
        "id": "GWtiir1MYHqK"
      }
    },
    {
      "cell_type": "code",
      "source": [
        "posts_filtered_rdd = posts_filtered.rdd \\\n",
        "    .map(includes_name) \\\n",
        "    .filter(lambda x: x[1] != 'None')\n",
        "\n",
        "posts_aggregate = posts_filtered_rdd \\\n",
        "    .keyBy(lambda row: (row[0].year, row[1])) \\\n",
        "    .aggregateByKey(0, lambda x, _: x + 1, lambda x1, x2: x1 + x2) \\\n",
        "    .sortBy(lambda x: x[1], ascending=False) \\\n",
        "    .collect()\n",
        "\n",
        "years = list(range(2010, 2021))\n",
        "years_df = []\n",
        "\n",
        "for year in years:\n",
        "    first_languages = [row for row in posts_aggregate if row[0][0] == year][:10]\n",
        "    years_df.extend(first_languages)\n",
        "\n",
        "row_name = Row('Year', 'Language', 'Count')\n",
        "result_df = spark.createDataFrame([\n",
        "    row_name(year, lang, count) for ((year, lang), count) in years_df\n",
        "])\n",
        "\n",
        "result_df.show(100 ,truncate=False)\n",
        "result_df.write.mode(\"overwrite\").parquet(\"result.parquet\")"
      ],
      "metadata": {
        "colab": {
          "base_uri": "https://localhost:8080/"
        },
        "id": "Uuau_iypfGrq",
        "outputId": "c697de07-d03b-4cf5-e357-5aa63530c62b"
      },
      "execution_count": 31,
      "outputs": [
        {
          "output_type": "stream",
          "name": "stdout",
          "text": [
            "+----+-----------+-----+\n",
            "|Year|Language   |Count|\n",
            "+----+-----------+-----+\n",
            "|2010|Java       |52   |\n",
            "|2010|JavaScript |44   |\n",
            "|2010|PHP        |42   |\n",
            "|2010|Python     |25   |\n",
            "|2010|Objective-C|23   |\n",
            "|2010|C          |20   |\n",
            "|2010|Ruby       |11   |\n",
            "|2010|Delphi     |7    |\n",
            "|2010|R          |3    |\n",
            "|2010|AppleScript|3    |\n",
            "|2011|PHP        |97   |\n",
            "|2011|Java       |92   |\n",
            "|2011|JavaScript |82   |\n",
            "|2011|Python     |35   |\n",
            "|2011|Objective-C|33   |\n",
            "|2011|C          |24   |\n",
            "|2011|Ruby       |17   |\n",
            "|2011|Delphi     |8    |\n",
            "|2011|Perl       |8    |\n",
            "|2011|Bash       |7    |\n",
            "|2012|PHP        |136  |\n",
            "|2012|JavaScript |129  |\n",
            "|2012|Java       |124  |\n",
            "|2012|Python     |65   |\n",
            "|2012|Objective-C|45   |\n",
            "|2012|C          |27   |\n",
            "|2012|Ruby       |25   |\n",
            "|2012|R          |9    |\n",
            "|2012|Bash       |9    |\n",
            "|2012|MATLAB     |6    |\n",
            "|2013|JavaScript |196  |\n",
            "|2013|Java       |191  |\n",
            "|2013|PHP        |173  |\n",
            "|2013|Python     |87   |\n",
            "|2013|Objective-C|40   |\n",
            "|2013|C          |36   |\n",
            "|2013|Ruby       |30   |\n",
            "|2013|R          |25   |\n",
            "|2013|Bash       |11   |\n",
            "|2013|Scala      |10   |\n",
            "|2014|JavaScript |235  |\n",
            "|2014|Java       |228  |\n",
            "|2014|PHP        |154  |\n",
            "|2014|Python     |103  |\n",
            "|2014|C          |52   |\n",
            "|2014|Objective-C|49   |\n",
            "|2014|R          |28   |\n",
            "|2014|Ruby       |20   |\n",
            "|2014|MATLAB     |16   |\n",
            "|2014|Bash       |13   |\n",
            "|2015|JavaScript |270  |\n",
            "|2015|Java       |208  |\n",
            "|2015|PHP        |147  |\n",
            "|2015|Python     |119  |\n",
            "|2015|R          |43   |\n",
            "|2015|C          |38   |\n",
            "|2015|Objective-C|30   |\n",
            "|2015|Ruby       |21   |\n",
            "|2015|MATLAB     |16   |\n",
            "|2015|Scala      |13   |\n",
            "|2016|JavaScript |272  |\n",
            "|2016|Java       |179  |\n",
            "|2016|Python     |141  |\n",
            "|2016|PHP        |126  |\n",
            "|2016|R          |50   |\n",
            "|2016|C          |32   |\n",
            "|2016|Ruby       |21   |\n",
            "|2016|Bash       |16   |\n",
            "|2016|Scala      |16   |\n",
            "|2016|MATLAB     |15   |\n",
            "|2017|JavaScript |244  |\n",
            "|2017|Java       |204  |\n",
            "|2017|Python     |185  |\n",
            "|2017|PHP        |122  |\n",
            "|2017|R          |53   |\n",
            "|2017|C          |24   |\n",
            "|2017|Objective-C|19   |\n",
            "|2017|Ruby       |16   |\n",
            "|2017|TypeScript |14   |\n",
            "|2017|PowerShell |14   |\n",
            "|2018|Python     |214  |\n",
            "|2018|JavaScript |196  |\n",
            "|2018|Java       |145  |\n",
            "|2018|PHP        |99   |\n",
            "|2018|R          |63   |\n",
            "|2018|C          |24   |\n",
            "|2018|Scala      |22   |\n",
            "|2018|TypeScript |21   |\n",
            "|2018|PowerShell |13   |\n",
            "|2018|Bash       |12   |\n",
            "|2019|Python     |162  |\n",
            "|2019|JavaScript |131  |\n",
            "|2019|Java       |95   |\n",
            "|2019|PHP        |59   |\n",
            "|2019|R          |36   |\n",
            "|2019|C          |14   |\n",
            "|2019|Dart       |9    |\n",
            "|2019|MATLAB     |9    |\n",
            "|2019|Go         |9    |\n",
            "|2019|Bash       |8    |\n",
            "+----+-----------+-----+\n",
            "\n"
          ]
        }
      ]
    },
    {
      "cell_type": "markdown",
      "source": [
        "6. Сохранение результатов в Parquet"
      ],
      "metadata": {
        "id": "cHneVnq9YOWM"
      }
    },
    {
      "cell_type": "code",
      "source": [
        "result_df.write.mode(\"overwrite\").parquet(\"result.parquet\")"
      ],
      "metadata": {
        "id": "tSZ-cf7vfOkf"
      },
      "execution_count": 32,
      "outputs": []
    }
  ]
}